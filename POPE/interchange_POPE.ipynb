{
 "cells": [
  {
   "cell_type": "code",
   "execution_count": 1,
   "id": "25fe3bd7",
   "metadata": {},
   "outputs": [
    {
     "data": {
      "application/vnd.jupyter.widget-view+json": {
       "model_id": "dcaee4353eb14594a625acba4b1cf73b",
       "version_major": 2,
       "version_minor": 0
      },
      "text/plain": []
     },
     "metadata": {},
     "output_type": "display_data"
    }
   ],
   "source": [
    "# Imports from the Python standard library\n",
    "from io import StringIO\n",
    "from typing import Iterable\n",
    "\n",
    "# Imports from the comp chem ecosystem\n",
    "import numpy as np\n",
    "from openff.units import Quantity, unit\n",
    "from openmm import unit as openmm_unit\n",
    "#from pdbfixer import PDBFixer\n",
    "\n",
    "# New topology imports\n",
    "from openff.interchange import Interchange\n",
    "\n",
    "# Imports from the toolkit\n",
    "from openff.toolkit import ForceField, Molecule, Topology"
   ]
  },
  {
   "cell_type": "code",
   "execution_count": 2,
   "id": "f0b0c57f",
   "metadata": {},
   "outputs": [
    {
     "data": {
      "image/svg+xml": [
       "<svg xmlns=\"http://www.w3.org/2000/svg\" xmlns:rdkit=\"http://www.rdkit.org/xml\" xmlns:xlink=\"http://www.w3.org/1999/xlink\" version=\"1.1\" baseProfile=\"full\" xml:space=\"preserve\" width=\"500px\" height=\"300px\" viewBox=\"0 0 500 300\">\n",
       "<!-- END OF HEADER -->\n",
       "<rect style=\"opacity:1.0;fill:#FFFFFF;stroke:none\" width=\"500.0\" height=\"300.0\" x=\"0.0\" y=\"0.0\"> </rect>\n",
       "<path class=\"bond-0 atom-0 atom-4\" d=\"M 409.5,36.0 L 406.7,40.8\" style=\"fill:none;fill-rule:evenodd;stroke:#0000FF;stroke-width:2.0px;stroke-linecap:butt;stroke-linejoin:miter;stroke-opacity:1\"/>\n",
       "<path class=\"bond-0 atom-0 atom-4\" d=\"M 406.7,40.8 L 403.8,45.6\" style=\"fill:none;fill-rule:evenodd;stroke:#000000;stroke-width:2.0px;stroke-linecap:butt;stroke-linejoin:miter;stroke-opacity:1\"/>\n",
       "<path class=\"bond-1 atom-0 atom-3\" d=\"M 408.8,30.4 L 405.3,28.3\" style=\"fill:none;fill-rule:evenodd;stroke:#0000FF;stroke-width:2.0px;stroke-linecap:butt;stroke-linejoin:miter;stroke-opacity:1\"/>\n",
       "<path class=\"bond-1 atom-0 atom-3\" d=\"M 405.3,28.3 L 401.9,26.2\" style=\"fill:none;fill-rule:evenodd;stroke:#000000;stroke-width:2.0px;stroke-linecap:butt;stroke-linejoin:miter;stroke-opacity:1\"/>\n",
       "<path class=\"bond-2 atom-1 atom-0\" d=\"M 411.9,20.7 L 411.9,24.6\" style=\"fill:none;fill-rule:evenodd;stroke:#000000;stroke-width:2.0px;stroke-linecap:butt;stroke-linejoin:miter;stroke-opacity:1\"/>\n",
       "<path class=\"bond-2 atom-1 atom-0\" d=\"M 411.9,24.6 L 411.8,28.5\" style=\"fill:none;fill-rule:evenodd;stroke:#0000FF;stroke-width:2.0px;stroke-linecap:butt;stroke-linejoin:miter;stroke-opacity:1\"/>\n",
       "<path class=\"bond-3 atom-2 atom-0\" d=\"M 424.0,32.4 L 420.7,32.3\" style=\"fill:none;fill-rule:evenodd;stroke:#000000;stroke-width:2.0px;stroke-linecap:butt;stroke-linejoin:miter;stroke-opacity:1\"/>\n",
       "<path class=\"bond-3 atom-2 atom-0\" d=\"M 420.7,32.3 L 417.5,32.3\" style=\"fill:none;fill-rule:evenodd;stroke:#0000FF;stroke-width:2.0px;stroke-linecap:butt;stroke-linejoin:miter;stroke-opacity:1\"/>\n",
       "<path class=\"bond-4 atom-4 atom-6\" d=\"M 403.8,45.6 L 403.8,57.3\" style=\"fill:none;fill-rule:evenodd;stroke:#000000;stroke-width:2.0px;stroke-linecap:butt;stroke-linejoin:miter;stroke-opacity:1\"/>\n",
       "<path class=\"bond-5 atom-4 atom-5\" d=\"M 403.8,45.6 L 414.0,51.6\" style=\"fill:none;fill-rule:evenodd;stroke:#000000;stroke-width:2.0px;stroke-linecap:butt;stroke-linejoin:miter;stroke-opacity:1\"/>\n",
       "<path class=\"bond-6 atom-7 atom-8\" d=\"M 388.6,45.8 L 378.8,40.0\" style=\"fill:none;fill-rule:evenodd;stroke:#000000;stroke-width:2.0px;stroke-linecap:butt;stroke-linejoin:miter;stroke-opacity:1\"/>\n",
       "<path class=\"bond-7 atom-7 atom-4\" d=\"M 388.6,45.8 L 403.8,45.6\" style=\"fill:none;fill-rule:evenodd;stroke:#000000;stroke-width:2.0px;stroke-linecap:butt;stroke-linejoin:miter;stroke-opacity:1\"/>\n",
       "<path class=\"bond-8 atom-9 atom-7\" d=\"M 388.4,34.5 L 388.6,45.8\" style=\"fill:none;fill-rule:evenodd;stroke:#000000;stroke-width:2.0px;stroke-linecap:butt;stroke-linejoin:miter;stroke-opacity:1\"/>\n",
       "<path class=\"bond-9 atom-10 atom-11\" d=\"M 366.8,56.0 L 366.9,52.6\" style=\"fill:none;fill-rule:evenodd;stroke:#FF7F00;stroke-width:2.0px;stroke-linecap:butt;stroke-linejoin:miter;stroke-opacity:1\"/>\n",
       "<path class=\"bond-9 atom-10 atom-11\" d=\"M 366.9,52.6 L 366.9,49.2\" style=\"fill:none;fill-rule:evenodd;stroke:#FF0000;stroke-width:2.0px;stroke-linecap:butt;stroke-linejoin:miter;stroke-opacity:1\"/>\n",
       "<path class=\"bond-9 atom-10 atom-11\" d=\"M 364.6,56.0 L 364.6,52.6\" style=\"fill:none;fill-rule:evenodd;stroke:#FF7F00;stroke-width:2.0px;stroke-linecap:butt;stroke-linejoin:miter;stroke-opacity:1\"/>\n",
       "<path class=\"bond-9 atom-10 atom-11\" d=\"M 364.6,52.6 L 364.6,49.2\" style=\"fill:none;fill-rule:evenodd;stroke:#FF0000;stroke-width:2.0px;stroke-linecap:butt;stroke-linejoin:miter;stroke-opacity:1\"/>\n",
       "<path class=\"bond-10 atom-10 atom-12\" d=\"M 365.6,64.0 L 366.2,67.4 L 365.0,67.4 Z\" style=\"fill:#FF7F00;fill-rule:evenodd;fill-opacity:1;stroke:#FF7F00;stroke-width:0.5px;stroke-linecap:butt;stroke-linejoin:miter;stroke-opacity:1;\"/>\n",
       "<path class=\"bond-10 atom-10 atom-12\" d=\"M 366.2,67.4 L 364.4,70.7 L 366.7,70.8 Z\" style=\"fill:#FF0000;fill-rule:evenodd;fill-opacity:1;stroke:#FF0000;stroke-width:0.5px;stroke-linecap:butt;stroke-linejoin:miter;stroke-opacity:1;\"/>\n",
       "<path class=\"bond-10 atom-10 atom-12\" d=\"M 366.2,67.4 L 365.0,67.4 L 364.4,70.7 Z\" style=\"fill:#FF0000;fill-rule:evenodd;fill-opacity:1;stroke:#FF0000;stroke-width:0.5px;stroke-linecap:butt;stroke-linejoin:miter;stroke-opacity:1;\"/>\n",
       "<path class=\"bond-11 atom-10 atom-14\" d=\"M 368.3,59.7 L 372.9,59.6\" style=\"fill:none;fill-rule:evenodd;stroke:#FF7F00;stroke-width:2.0px;stroke-linecap:butt;stroke-linejoin:miter;stroke-opacity:1\"/>\n",
       "<path class=\"bond-11 atom-10 atom-14\" d=\"M 372.9,59.6 L 377.5,59.5\" style=\"fill:none;fill-rule:evenodd;stroke:#FF0000;stroke-width:2.0px;stroke-linecap:butt;stroke-linejoin:miter;stroke-opacity:1\"/>\n",
       "<path class=\"bond-12 atom-13 atom-10\" d=\"M 353.9,59.3 L 358.5,59.5\" style=\"fill:none;fill-rule:evenodd;stroke:#FF0000;stroke-width:2.0px;stroke-linecap:butt;stroke-linejoin:miter;stroke-opacity:1\"/>\n",
       "<path class=\"bond-12 atom-13 atom-10\" d=\"M 358.5,59.5 L 363.1,59.6\" style=\"fill:none;fill-rule:evenodd;stroke:#FF7F00;stroke-width:2.0px;stroke-linecap:butt;stroke-linejoin:miter;stroke-opacity:1\"/>\n",
       "<path class=\"bond-13 atom-14 atom-7\" d=\"M 383.1,55.7 L 385.9,50.7\" style=\"fill:none;fill-rule:evenodd;stroke:#FF0000;stroke-width:2.0px;stroke-linecap:butt;stroke-linejoin:miter;stroke-opacity:1\"/>\n",
       "<path class=\"bond-13 atom-14 atom-7\" d=\"M 385.9,50.7 L 388.6,45.8\" style=\"fill:none;fill-rule:evenodd;stroke:#000000;stroke-width:2.0px;stroke-linecap:butt;stroke-linejoin:miter;stroke-opacity:1\"/>\n",
       "<path class=\"bond-14 atom-15 atom-17\" d=\"M 342.9,45.4 L 344.0,34.0\" style=\"fill:none;fill-rule:evenodd;stroke:#000000;stroke-width:2.0px;stroke-linecap:butt;stroke-linejoin:miter;stroke-opacity:1\"/>\n",
       "<path class=\"bond-15 atom-15 atom-13\" d=\"M 342.9,45.4 L 345.7,50.4\" style=\"fill:none;fill-rule:evenodd;stroke:#000000;stroke-width:2.0px;stroke-linecap:butt;stroke-linejoin:miter;stroke-opacity:1\"/>\n",
       "<path class=\"bond-15 atom-15 atom-13\" d=\"M 345.7,50.4 L 348.4,55.4\" style=\"fill:none;fill-rule:evenodd;stroke:#FF0000;stroke-width:2.0px;stroke-linecap:butt;stroke-linejoin:miter;stroke-opacity:1\"/>\n",
       "<path class=\"bond-16 atom-15 atom-16\" d=\"M 342.9,45.4 L 352.7,40.0\" style=\"fill:none;fill-rule:evenodd;stroke:#000000;stroke-width:2.0px;stroke-linecap:butt;stroke-linejoin:miter;stroke-opacity:1\"/>\n",
       "<path class=\"bond-17 atom-18 atom-19\" d=\"M 326.1,45.4 L 329.0,35.7 L 331.1,36.6 Z\" style=\"fill:#000000;fill-rule:evenodd;fill-opacity:1;stroke:#000000;stroke-width:0.5px;stroke-linecap:butt;stroke-linejoin:miter;stroke-opacity:1;\"/>\n",
       "<path class=\"bond-18 atom-18 atom-15\" d=\"M 326.1,45.4 L 342.9,45.4\" style=\"fill:none;fill-rule:evenodd;stroke:#000000;stroke-width:2.0px;stroke-linecap:butt;stroke-linejoin:miter;stroke-opacity:1\"/>\n",
       "<path class=\"bond-19 atom-20 atom-18\" d=\"M 326.3,56.9 L 326.2,51.1\" style=\"fill:none;fill-rule:evenodd;stroke:#FF0000;stroke-width:2.0px;stroke-linecap:butt;stroke-linejoin:miter;stroke-opacity:1\"/>\n",
       "<path class=\"bond-19 atom-20 atom-18\" d=\"M 326.2,51.1 L 326.1,45.4\" style=\"fill:none;fill-rule:evenodd;stroke:#000000;stroke-width:2.0px;stroke-linecap:butt;stroke-linejoin:miter;stroke-opacity:1\"/>\n",
       "<path class=\"bond-20 atom-21 atom-20\" d=\"M 313.2,68.6 L 318.0,65.7\" style=\"fill:none;fill-rule:evenodd;stroke:#000000;stroke-width:2.0px;stroke-linecap:butt;stroke-linejoin:miter;stroke-opacity:1\"/>\n",
       "<path class=\"bond-20 atom-21 atom-20\" d=\"M 318.0,65.7 L 322.8,62.8\" style=\"fill:none;fill-rule:evenodd;stroke:#FF0000;stroke-width:2.0px;stroke-linecap:butt;stroke-linejoin:miter;stroke-opacity:1\"/>\n",
       "<path class=\"bond-21 atom-21 atom-22\" d=\"M 314.4,68.0 L 309.0,65.1\" style=\"fill:none;fill-rule:evenodd;stroke:#000000;stroke-width:2.0px;stroke-linecap:butt;stroke-linejoin:miter;stroke-opacity:1\"/>\n",
       "<path class=\"bond-21 atom-21 atom-22\" d=\"M 309.0,65.1 L 303.7,62.2\" style=\"fill:none;fill-rule:evenodd;stroke:#FF0000;stroke-width:2.0px;stroke-linecap:butt;stroke-linejoin:miter;stroke-opacity:1\"/>\n",
       "<path class=\"bond-21 atom-21 atom-22\" d=\"M 313.3,70.0 L 307.9,67.1\" style=\"fill:none;fill-rule:evenodd;stroke:#000000;stroke-width:2.0px;stroke-linecap:butt;stroke-linejoin:miter;stroke-opacity:1\"/>\n",
       "<path class=\"bond-21 atom-21 atom-22\" d=\"M 307.9,67.1 L 302.6,64.2\" style=\"fill:none;fill-rule:evenodd;stroke:#FF0000;stroke-width:2.0px;stroke-linecap:butt;stroke-linejoin:miter;stroke-opacity:1\"/>\n",
       "<path class=\"bond-22 atom-23 atom-21\" d=\"M 313.6,83.8 L 313.2,68.6\" style=\"fill:none;fill-rule:evenodd;stroke:#000000;stroke-width:2.0px;stroke-linecap:butt;stroke-linejoin:miter;stroke-opacity:1\"/>\n",
       "<path class=\"bond-23 atom-23 atom-25\" d=\"M 313.6,83.8 L 325.9,83.5\" style=\"fill:none;fill-rule:evenodd;stroke:#000000;stroke-width:2.0px;stroke-linecap:butt;stroke-linejoin:miter;stroke-opacity:1\"/>\n",
       "<path class=\"bond-24 atom-24 atom-23\" d=\"M 319.2,93.1 L 313.6,83.8\" style=\"fill:none;fill-rule:evenodd;stroke:#000000;stroke-width:2.0px;stroke-linecap:butt;stroke-linejoin:miter;stroke-opacity:1\"/>\n",
       "<path class=\"bond-25 atom-26 atom-18\" d=\"M 312.8,38.3 L 326.1,45.4\" style=\"fill:none;fill-rule:evenodd;stroke:#000000;stroke-width:2.0px;stroke-linecap:butt;stroke-linejoin:miter;stroke-opacity:1\"/>\n",
       "<path class=\"bond-26 atom-26 atom-27\" d=\"M 312.8,38.3 L 307.1,28.9\" style=\"fill:none;fill-rule:evenodd;stroke:#000000;stroke-width:2.0px;stroke-linecap:butt;stroke-linejoin:miter;stroke-opacity:1\"/>\n",
       "<path class=\"bond-27 atom-26 atom-28\" d=\"M 312.8,38.3 L 318.1,28.6\" style=\"fill:none;fill-rule:evenodd;stroke:#000000;stroke-width:2.0px;stroke-linecap:butt;stroke-linejoin:miter;stroke-opacity:1\"/>\n",
       "<path class=\"bond-28 atom-29 atom-26\" d=\"M 303.5,43.9 L 308.1,41.1\" style=\"fill:none;fill-rule:evenodd;stroke:#FF0000;stroke-width:2.0px;stroke-linecap:butt;stroke-linejoin:miter;stroke-opacity:1\"/>\n",
       "<path class=\"bond-28 atom-29 atom-26\" d=\"M 308.1,41.1 L 312.8,38.3\" style=\"fill:none;fill-rule:evenodd;stroke:#000000;stroke-width:2.0px;stroke-linecap:butt;stroke-linejoin:miter;stroke-opacity:1\"/>\n",
       "<path class=\"bond-29 atom-30 atom-29\" d=\"M 286.9,38.5 L 291.7,41.3\" style=\"fill:none;fill-rule:evenodd;stroke:#000000;stroke-width:2.0px;stroke-linecap:butt;stroke-linejoin:miter;stroke-opacity:1\"/>\n",
       "<path class=\"bond-29 atom-30 atom-29\" d=\"M 291.7,41.3 L 296.5,44.0\" style=\"fill:none;fill-rule:evenodd;stroke:#FF0000;stroke-width:2.0px;stroke-linecap:butt;stroke-linejoin:miter;stroke-opacity:1\"/>\n",
       "<path class=\"bond-30 atom-30 atom-31\" d=\"M 288.1,39.2 L 288.0,33.1\" style=\"fill:none;fill-rule:evenodd;stroke:#000000;stroke-width:2.0px;stroke-linecap:butt;stroke-linejoin:miter;stroke-opacity:1\"/>\n",
       "<path class=\"bond-30 atom-30 atom-31\" d=\"M 288.0,33.1 L 287.9,27.0\" style=\"fill:none;fill-rule:evenodd;stroke:#FF0000;stroke-width:2.0px;stroke-linecap:butt;stroke-linejoin:miter;stroke-opacity:1\"/>\n",
       "<path class=\"bond-30 atom-30 atom-31\" d=\"M 285.8,39.2 L 285.7,33.2\" style=\"fill:none;fill-rule:evenodd;stroke:#000000;stroke-width:2.0px;stroke-linecap:butt;stroke-linejoin:miter;stroke-opacity:1\"/>\n",
       "<path class=\"bond-30 atom-30 atom-31\" d=\"M 285.7,33.2 L 285.7,27.1\" style=\"fill:none;fill-rule:evenodd;stroke:#FF0000;stroke-width:2.0px;stroke-linecap:butt;stroke-linejoin:miter;stroke-opacity:1\"/>\n",
       "<path class=\"bond-31 atom-32 atom-30\" d=\"M 274.1,46.2 L 286.9,38.5\" style=\"fill:none;fill-rule:evenodd;stroke:#000000;stroke-width:2.0px;stroke-linecap:butt;stroke-linejoin:miter;stroke-opacity:1\"/>\n",
       "<path class=\"bond-32 atom-33 atom-32\" d=\"M 269.0,55.7 L 274.1,46.2\" style=\"fill:none;fill-rule:evenodd;stroke:#000000;stroke-width:2.0px;stroke-linecap:butt;stroke-linejoin:miter;stroke-opacity:1\"/>\n",
       "<path class=\"bond-33 atom-34 atom-32\" d=\"M 279.8,55.6 L 274.1,46.2\" style=\"fill:none;fill-rule:evenodd;stroke:#000000;stroke-width:2.0px;stroke-linecap:butt;stroke-linejoin:miter;stroke-opacity:1\"/>\n",
       "<path class=\"bond-34 atom-35 atom-37\" d=\"M 300.4,91.6 L 295.0,82.1\" style=\"fill:none;fill-rule:evenodd;stroke:#000000;stroke-width:2.0px;stroke-linecap:butt;stroke-linejoin:miter;stroke-opacity:1\"/>\n",
       "<path class=\"bond-35 atom-35 atom-23\" d=\"M 300.4,91.6 L 313.6,83.8\" style=\"fill:none;fill-rule:evenodd;stroke:#000000;stroke-width:2.0px;stroke-linecap:butt;stroke-linejoin:miter;stroke-opacity:1\"/>\n",
       "<path class=\"bond-36 atom-36 atom-35\" d=\"M 288.3,91.4 L 300.4,91.6\" style=\"fill:none;fill-rule:evenodd;stroke:#000000;stroke-width:2.0px;stroke-linecap:butt;stroke-linejoin:miter;stroke-opacity:1\"/>\n",
       "<path class=\"bond-37 atom-38 atom-39\" d=\"M 300.2,107.3 L 312.4,107.5\" style=\"fill:none;fill-rule:evenodd;stroke:#000000;stroke-width:2.0px;stroke-linecap:butt;stroke-linejoin:miter;stroke-opacity:1\"/>\n",
       "<path class=\"bond-38 atom-38 atom-35\" d=\"M 300.2,107.3 L 300.4,91.6\" style=\"fill:none;fill-rule:evenodd;stroke:#000000;stroke-width:2.0px;stroke-linecap:butt;stroke-linejoin:miter;stroke-opacity:1\"/>\n",
       "<path class=\"bond-39 atom-40 atom-38\" d=\"M 305.6,116.7 L 300.2,107.3\" style=\"fill:none;fill-rule:evenodd;stroke:#000000;stroke-width:2.0px;stroke-linecap:butt;stroke-linejoin:miter;stroke-opacity:1\"/>\n",
       "<path class=\"bond-40 atom-41 atom-43\" d=\"M 286.4,114.9 L 281.2,105.7\" style=\"fill:none;fill-rule:evenodd;stroke:#000000;stroke-width:2.0px;stroke-linecap:butt;stroke-linejoin:miter;stroke-opacity:1\"/>\n",
       "<path class=\"bond-41 atom-41 atom-38\" d=\"M 286.4,114.9 L 300.2,107.3\" style=\"fill:none;fill-rule:evenodd;stroke:#000000;stroke-width:2.0px;stroke-linecap:butt;stroke-linejoin:miter;stroke-opacity:1\"/>\n",
       "<path class=\"bond-42 atom-42 atom-41\" d=\"M 274.4,114.6 L 286.4,114.9\" style=\"fill:none;fill-rule:evenodd;stroke:#000000;stroke-width:2.0px;stroke-linecap:butt;stroke-linejoin:miter;stroke-opacity:1\"/>\n",
       "<path class=\"bond-43 atom-44 atom-45\" d=\"M 285.5,129.9 L 297.9,130.5\" style=\"fill:none;fill-rule:evenodd;stroke:#000000;stroke-width:2.0px;stroke-linecap:butt;stroke-linejoin:miter;stroke-opacity:1\"/>\n",
       "<path class=\"bond-44 atom-44 atom-41\" d=\"M 285.5,129.9 L 286.4,114.9\" style=\"fill:none;fill-rule:evenodd;stroke:#000000;stroke-width:2.0px;stroke-linecap:butt;stroke-linejoin:miter;stroke-opacity:1\"/>\n",
       "<path class=\"bond-45 atom-46 atom-44\" d=\"M 290.6,139.1 L 285.5,129.9\" style=\"fill:none;fill-rule:evenodd;stroke:#000000;stroke-width:2.0px;stroke-linecap:butt;stroke-linejoin:miter;stroke-opacity:1\"/>\n",
       "<path class=\"bond-46 atom-47 atom-48\" d=\"M 269.3,137.3 L 265.0,127.6\" style=\"fill:none;fill-rule:evenodd;stroke:#000000;stroke-width:2.0px;stroke-linecap:butt;stroke-linejoin:miter;stroke-opacity:1\"/>\n",
       "<path class=\"bond-47 atom-47 atom-44\" d=\"M 269.3,137.3 L 285.5,129.9\" style=\"fill:none;fill-rule:evenodd;stroke:#000000;stroke-width:2.0px;stroke-linecap:butt;stroke-linejoin:miter;stroke-opacity:1\"/>\n",
       "<path class=\"bond-48 atom-49 atom-47\" d=\"M 257.9,136.3 L 269.3,137.3\" style=\"fill:none;fill-rule:evenodd;stroke:#000000;stroke-width:2.0px;stroke-linecap:butt;stroke-linejoin:miter;stroke-opacity:1\"/>\n",
       "<path class=\"bond-49 atom-50 atom-52\" d=\"M 267.6,152.3 L 256.7,154.6\" style=\"fill:none;fill-rule:evenodd;stroke:#000000;stroke-width:2.0px;stroke-linecap:butt;stroke-linejoin:miter;stroke-opacity:1\"/>\n",
       "<path class=\"bond-50 atom-50 atom-47\" d=\"M 267.6,152.3 L 269.3,137.3\" style=\"fill:none;fill-rule:evenodd;stroke:#000000;stroke-width:2.0px;stroke-linecap:butt;stroke-linejoin:miter;stroke-opacity:1\"/>\n",
       "<path class=\"bond-51 atom-51 atom-50\" d=\"M 267.6,160.3 L 267.6,152.3\" style=\"fill:none;fill-rule:evenodd;stroke:#000000;stroke-width:2.0px;stroke-linecap:butt;stroke-linejoin:miter;stroke-opacity:1\"/>\n",
       "<path class=\"bond-52 atom-53 atom-54\" d=\"M 284.3,161.2 L 294.6,155.7\" style=\"fill:none;fill-rule:evenodd;stroke:#000000;stroke-width:2.0px;stroke-linecap:butt;stroke-linejoin:miter;stroke-opacity:1\"/>\n",
       "<path class=\"bond-53 atom-53 atom-50\" d=\"M 284.3,161.2 L 267.6,152.3\" style=\"fill:none;fill-rule:evenodd;stroke:#000000;stroke-width:2.0px;stroke-linecap:butt;stroke-linejoin:miter;stroke-opacity:1\"/>\n",
       "<path class=\"bond-54 atom-55 atom-53\" d=\"M 284.6,178.6 L 284.3,161.2\" style=\"fill:none;fill-rule:evenodd;stroke:#000000;stroke-width:2.0px;stroke-linecap:butt;stroke-linejoin:miter;stroke-opacity:1\"/>\n",
       "<path class=\"bond-54 atom-55 atom-53\" d=\"M 286.8,177.2 L 286.6,162.5\" style=\"fill:none;fill-rule:evenodd;stroke:#000000;stroke-width:2.0px;stroke-linecap:butt;stroke-linejoin:miter;stroke-opacity:1\"/>\n",
       "<path class=\"bond-55 atom-56 atom-55\" d=\"M 294.8,184.5 L 284.6,178.6\" style=\"fill:none;fill-rule:evenodd;stroke:#000000;stroke-width:2.0px;stroke-linecap:butt;stroke-linejoin:miter;stroke-opacity:1\"/>\n",
       "<path class=\"bond-56 atom-57 atom-58\" d=\"M 270.7,185.7 L 270.7,177.7\" style=\"fill:none;fill-rule:evenodd;stroke:#000000;stroke-width:2.0px;stroke-linecap:butt;stroke-linejoin:miter;stroke-opacity:1\"/>\n",
       "<path class=\"bond-57 atom-57 atom-55\" d=\"M 270.7,185.7 L 284.6,178.6\" style=\"fill:none;fill-rule:evenodd;stroke:#000000;stroke-width:2.0px;stroke-linecap:butt;stroke-linejoin:miter;stroke-opacity:1\"/>\n",
       "<path class=\"bond-58 atom-59 atom-57\" d=\"M 258.5,183.0 L 270.7,185.7\" style=\"fill:none;fill-rule:evenodd;stroke:#000000;stroke-width:2.0px;stroke-linecap:butt;stroke-linejoin:miter;stroke-opacity:1\"/>\n",
       "<path class=\"bond-59 atom-60 atom-57\" d=\"M 271.0,199.7 L 270.7,185.7\" style=\"fill:none;fill-rule:evenodd;stroke:#000000;stroke-width:2.0px;stroke-linecap:butt;stroke-linejoin:miter;stroke-opacity:1\"/>\n",
       "<path class=\"bond-60 atom-60 atom-63\" d=\"M 271.0,199.7 L 259.2,207.5\" style=\"fill:none;fill-rule:evenodd;stroke:#000000;stroke-width:2.0px;stroke-linecap:butt;stroke-linejoin:miter;stroke-opacity:1\"/>\n",
       "<path class=\"bond-61 atom-61 atom-60\" d=\"M 283.2,198.7 L 271.0,199.7\" style=\"fill:none;fill-rule:evenodd;stroke:#000000;stroke-width:2.0px;stroke-linecap:butt;stroke-linejoin:miter;stroke-opacity:1\"/>\n",
       "<path class=\"bond-62 atom-62 atom-60\" d=\"M 277.1,208.0 L 271.0,199.7\" style=\"fill:none;fill-rule:evenodd;stroke:#000000;stroke-width:2.0px;stroke-linecap:butt;stroke-linejoin:miter;stroke-opacity:1\"/>\n",
       "<path class=\"bond-63 atom-63 atom-65\" d=\"M 259.2,207.5 L 253.6,198.4\" style=\"fill:none;fill-rule:evenodd;stroke:#000000;stroke-width:2.0px;stroke-linecap:butt;stroke-linejoin:miter;stroke-opacity:1\"/>\n",
       "<path class=\"bond-64 atom-63 atom-64\" d=\"M 259.2,207.5 L 247.6,207.5\" style=\"fill:none;fill-rule:evenodd;stroke:#000000;stroke-width:2.0px;stroke-linecap:butt;stroke-linejoin:miter;stroke-opacity:1\"/>\n",
       "<path class=\"bond-65 atom-66 atom-63\" d=\"M 259.7,223.1 L 259.2,207.5\" style=\"fill:none;fill-rule:evenodd;stroke:#000000;stroke-width:2.0px;stroke-linecap:butt;stroke-linejoin:miter;stroke-opacity:1\"/>\n",
       "<path class=\"bond-66 atom-66 atom-69\" d=\"M 259.7,223.1 L 246.6,231.1\" style=\"fill:none;fill-rule:evenodd;stroke:#000000;stroke-width:2.0px;stroke-linecap:butt;stroke-linejoin:miter;stroke-opacity:1\"/>\n",
       "<path class=\"bond-67 atom-67 atom-66\" d=\"M 271.8,223.1 L 259.7,223.1\" style=\"fill:none;fill-rule:evenodd;stroke:#000000;stroke-width:2.0px;stroke-linecap:butt;stroke-linejoin:miter;stroke-opacity:1\"/>\n",
       "<path class=\"bond-68 atom-68 atom-66\" d=\"M 265.4,232.0 L 259.7,223.1\" style=\"fill:none;fill-rule:evenodd;stroke:#000000;stroke-width:2.0px;stroke-linecap:butt;stroke-linejoin:miter;stroke-opacity:1\"/>\n",
       "<path class=\"bond-69 atom-69 atom-70\" d=\"M 246.6,231.1 L 241.1,222.1\" style=\"fill:none;fill-rule:evenodd;stroke:#000000;stroke-width:2.0px;stroke-linecap:butt;stroke-linejoin:miter;stroke-opacity:1\"/>\n",
       "<path class=\"bond-70 atom-69 atom-72\" d=\"M 246.6,231.1 L 246.7,246.5\" style=\"fill:none;fill-rule:evenodd;stroke:#000000;stroke-width:2.0px;stroke-linecap:butt;stroke-linejoin:miter;stroke-opacity:1\"/>\n",
       "<path class=\"bond-71 atom-71 atom-69\" d=\"M 234.7,230.9 L 246.6,231.1\" style=\"fill:none;fill-rule:evenodd;stroke:#000000;stroke-width:2.0px;stroke-linecap:butt;stroke-linejoin:miter;stroke-opacity:1\"/>\n",
       "<path class=\"bond-72 atom-72 atom-74\" d=\"M 246.7,246.5 L 258.7,246.5\" style=\"fill:none;fill-rule:evenodd;stroke:#000000;stroke-width:2.0px;stroke-linecap:butt;stroke-linejoin:miter;stroke-opacity:1\"/>\n",
       "<path class=\"bond-73 atom-72 atom-75\" d=\"M 246.7,246.5 L 233.3,254.5\" style=\"fill:none;fill-rule:evenodd;stroke:#000000;stroke-width:2.0px;stroke-linecap:butt;stroke-linejoin:miter;stroke-opacity:1\"/>\n",
       "<path class=\"bond-74 atom-73 atom-72\" d=\"M 252.2,255.5 L 246.7,246.5\" style=\"fill:none;fill-rule:evenodd;stroke:#000000;stroke-width:2.0px;stroke-linecap:butt;stroke-linejoin:miter;stroke-opacity:1\"/>\n",
       "<path class=\"bond-75 atom-75 atom-76\" d=\"M 233.3,254.5 L 227.7,245.3\" style=\"fill:none;fill-rule:evenodd;stroke:#000000;stroke-width:2.0px;stroke-linecap:butt;stroke-linejoin:miter;stroke-opacity:1\"/>\n",
       "<path class=\"bond-76 atom-75 atom-77\" d=\"M 233.3,254.5 L 221.0,254.5\" style=\"fill:none;fill-rule:evenodd;stroke:#000000;stroke-width:2.0px;stroke-linecap:butt;stroke-linejoin:miter;stroke-opacity:1\"/>\n",
       "<path class=\"bond-77 atom-78 atom-79\" d=\"M 233.3,269.9 L 245.4,270.0\" style=\"fill:none;fill-rule:evenodd;stroke:#000000;stroke-width:2.0px;stroke-linecap:butt;stroke-linejoin:miter;stroke-opacity:1\"/>\n",
       "<path class=\"bond-78 atom-78 atom-75\" d=\"M 233.3,269.9 L 233.3,254.5\" style=\"fill:none;fill-rule:evenodd;stroke:#000000;stroke-width:2.0px;stroke-linecap:butt;stroke-linejoin:miter;stroke-opacity:1\"/>\n",
       "<path class=\"bond-79 atom-80 atom-78\" d=\"M 238.7,279.3 L 233.3,269.9\" style=\"fill:none;fill-rule:evenodd;stroke:#000000;stroke-width:2.0px;stroke-linecap:butt;stroke-linejoin:miter;stroke-opacity:1\"/>\n",
       "<path class=\"bond-80 atom-81 atom-78\" d=\"M 223.1,275.7 L 233.3,269.9\" style=\"fill:none;fill-rule:evenodd;stroke:#000000;stroke-width:2.0px;stroke-linecap:butt;stroke-linejoin:miter;stroke-opacity:1\"/>\n",
       "<path class=\"bond-81 atom-82 atom-32\" d=\"M 260.9,38.6 L 274.1,46.2\" style=\"fill:none;fill-rule:evenodd;stroke:#000000;stroke-width:2.0px;stroke-linecap:butt;stroke-linejoin:miter;stroke-opacity:1\"/>\n",
       "<path class=\"bond-82 atom-82 atom-83\" d=\"M 260.9,38.6 L 255.7,29.1\" style=\"fill:none;fill-rule:evenodd;stroke:#000000;stroke-width:2.0px;stroke-linecap:butt;stroke-linejoin:miter;stroke-opacity:1\"/>\n",
       "<path class=\"bond-83 atom-82 atom-84\" d=\"M 260.9,38.6 L 266.4,29.1\" style=\"fill:none;fill-rule:evenodd;stroke:#000000;stroke-width:2.0px;stroke-linecap:butt;stroke-linejoin:miter;stroke-opacity:1\"/>\n",
       "<path class=\"bond-84 atom-85 atom-82\" d=\"M 247.4,46.2 L 260.9,38.6\" style=\"fill:none;fill-rule:evenodd;stroke:#000000;stroke-width:2.0px;stroke-linecap:butt;stroke-linejoin:miter;stroke-opacity:1\"/>\n",
       "<path class=\"bond-85 atom-86 atom-85\" d=\"M 242.1,55.5 L 247.4,46.2\" style=\"fill:none;fill-rule:evenodd;stroke:#000000;stroke-width:2.0px;stroke-linecap:butt;stroke-linejoin:miter;stroke-opacity:1\"/>\n",
       "<path class=\"bond-86 atom-87 atom-85\" d=\"M 252.5,55.6 L 247.4,46.2\" style=\"fill:none;fill-rule:evenodd;stroke:#000000;stroke-width:2.0px;stroke-linecap:butt;stroke-linejoin:miter;stroke-opacity:1\"/>\n",
       "<path class=\"bond-87 atom-88 atom-89\" d=\"M 234.0,38.5 L 228.7,29.1\" style=\"fill:none;fill-rule:evenodd;stroke:#000000;stroke-width:2.0px;stroke-linecap:butt;stroke-linejoin:miter;stroke-opacity:1\"/>\n",
       "<path class=\"bond-88 atom-88 atom-90\" d=\"M 234.0,38.5 L 239.2,29.1\" style=\"fill:none;fill-rule:evenodd;stroke:#000000;stroke-width:2.0px;stroke-linecap:butt;stroke-linejoin:miter;stroke-opacity:1\"/>\n",
       "<path class=\"bond-89 atom-88 atom-85\" d=\"M 234.0,38.5 L 247.4,46.2\" style=\"fill:none;fill-rule:evenodd;stroke:#000000;stroke-width:2.0px;stroke-linecap:butt;stroke-linejoin:miter;stroke-opacity:1\"/>\n",
       "<path class=\"bond-90 atom-91 atom-92\" d=\"M 220.5,46.2 L 215.3,55.5\" style=\"fill:none;fill-rule:evenodd;stroke:#000000;stroke-width:2.0px;stroke-linecap:butt;stroke-linejoin:miter;stroke-opacity:1\"/>\n",
       "<path class=\"bond-91 atom-91 atom-88\" d=\"M 220.5,46.2 L 234.0,38.5\" style=\"fill:none;fill-rule:evenodd;stroke:#000000;stroke-width:2.0px;stroke-linecap:butt;stroke-linejoin:miter;stroke-opacity:1\"/>\n",
       "<path class=\"bond-92 atom-93 atom-91\" d=\"M 225.6,55.5 L 220.5,46.2\" style=\"fill:none;fill-rule:evenodd;stroke:#000000;stroke-width:2.0px;stroke-linecap:butt;stroke-linejoin:miter;stroke-opacity:1\"/>\n",
       "<path class=\"bond-93 atom-94 atom-91\" d=\"M 207.1,38.5 L 220.5,46.2\" style=\"fill:none;fill-rule:evenodd;stroke:#000000;stroke-width:2.0px;stroke-linecap:butt;stroke-linejoin:miter;stroke-opacity:1\"/>\n",
       "<path class=\"bond-94 atom-94 atom-96\" d=\"M 207.1,38.5 L 201.9,29.2\" style=\"fill:none;fill-rule:evenodd;stroke:#000000;stroke-width:2.0px;stroke-linecap:butt;stroke-linejoin:miter;stroke-opacity:1\"/>\n",
       "<path class=\"bond-95 atom-95 atom-94\" d=\"M 212.2,29.2 L 207.1,38.5\" style=\"fill:none;fill-rule:evenodd;stroke:#000000;stroke-width:2.0px;stroke-linecap:butt;stroke-linejoin:miter;stroke-opacity:1\"/>\n",
       "<path class=\"bond-96 atom-97 atom-98\" d=\"M 193.7,46.1 L 188.5,55.5\" style=\"fill:none;fill-rule:evenodd;stroke:#000000;stroke-width:2.0px;stroke-linecap:butt;stroke-linejoin:miter;stroke-opacity:1\"/>\n",
       "<path class=\"bond-97 atom-97 atom-94\" d=\"M 193.7,46.1 L 207.1,38.5\" style=\"fill:none;fill-rule:evenodd;stroke:#000000;stroke-width:2.0px;stroke-linecap:butt;stroke-linejoin:miter;stroke-opacity:1\"/>\n",
       "<path class=\"bond-98 atom-99 atom-97\" d=\"M 198.8,55.5 L 193.7,46.1\" style=\"fill:none;fill-rule:evenodd;stroke:#000000;stroke-width:2.0px;stroke-linecap:butt;stroke-linejoin:miter;stroke-opacity:1\"/>\n",
       "<path class=\"bond-99 atom-100 atom-102\" d=\"M 180.3,38.5 L 185.4,29.2\" style=\"fill:none;fill-rule:evenodd;stroke:#000000;stroke-width:2.0px;stroke-linecap:butt;stroke-linejoin:miter;stroke-opacity:1\"/>\n",
       "<path class=\"bond-100 atom-100 atom-97\" d=\"M 180.3,38.5 L 193.7,46.1\" style=\"fill:none;fill-rule:evenodd;stroke:#000000;stroke-width:2.0px;stroke-linecap:butt;stroke-linejoin:miter;stroke-opacity:1\"/>\n",
       "<path class=\"bond-101 atom-101 atom-100\" d=\"M 175.1,29.2 L 180.3,38.5\" style=\"fill:none;fill-rule:evenodd;stroke:#000000;stroke-width:2.0px;stroke-linecap:butt;stroke-linejoin:miter;stroke-opacity:1\"/>\n",
       "<path class=\"bond-102 atom-103 atom-105\" d=\"M 166.9,46.2 L 172.1,55.5\" style=\"fill:none;fill-rule:evenodd;stroke:#000000;stroke-width:2.0px;stroke-linecap:butt;stroke-linejoin:miter;stroke-opacity:1\"/>\n",
       "<path class=\"bond-103 atom-103 atom-100\" d=\"M 166.9,46.2 L 180.3,38.5\" style=\"fill:none;fill-rule:evenodd;stroke:#000000;stroke-width:2.0px;stroke-linecap:butt;stroke-linejoin:miter;stroke-opacity:1\"/>\n",
       "<path class=\"bond-104 atom-104 atom-103\" d=\"M 161.8,55.5 L 166.9,46.2\" style=\"fill:none;fill-rule:evenodd;stroke:#000000;stroke-width:2.0px;stroke-linecap:butt;stroke-linejoin:miter;stroke-opacity:1\"/>\n",
       "<path class=\"bond-105 atom-106 atom-107\" d=\"M 153.5,38.6 L 158.7,29.2\" style=\"fill:none;fill-rule:evenodd;stroke:#000000;stroke-width:2.0px;stroke-linecap:butt;stroke-linejoin:miter;stroke-opacity:1\"/>\n",
       "<path class=\"bond-106 atom-106 atom-103\" d=\"M 153.5,38.6 L 166.9,46.2\" style=\"fill:none;fill-rule:evenodd;stroke:#000000;stroke-width:2.0px;stroke-linecap:butt;stroke-linejoin:miter;stroke-opacity:1\"/>\n",
       "<path class=\"bond-107 atom-108 atom-106\" d=\"M 148.3,29.2 L 153.5,38.6\" style=\"fill:none;fill-rule:evenodd;stroke:#000000;stroke-width:2.0px;stroke-linecap:butt;stroke-linejoin:miter;stroke-opacity:1\"/>\n",
       "<path class=\"bond-108 atom-109 atom-106\" d=\"M 140.0,46.2 L 153.5,38.6\" style=\"fill:none;fill-rule:evenodd;stroke:#000000;stroke-width:2.0px;stroke-linecap:butt;stroke-linejoin:miter;stroke-opacity:1\"/>\n",
       "<path class=\"bond-109 atom-110 atom-109\" d=\"M 145.3,55.5 L 140.0,46.2\" style=\"fill:none;fill-rule:evenodd;stroke:#000000;stroke-width:2.0px;stroke-linecap:butt;stroke-linejoin:miter;stroke-opacity:1\"/>\n",
       "<path class=\"bond-110 atom-111 atom-109\" d=\"M 134.9,55.6 L 140.0,46.2\" style=\"fill:none;fill-rule:evenodd;stroke:#000000;stroke-width:2.0px;stroke-linecap:butt;stroke-linejoin:miter;stroke-opacity:1\"/>\n",
       "<path class=\"bond-111 atom-112 atom-109\" d=\"M 126.6,38.6 L 140.0,46.2\" style=\"fill:none;fill-rule:evenodd;stroke:#000000;stroke-width:2.0px;stroke-linecap:butt;stroke-linejoin:miter;stroke-opacity:1\"/>\n",
       "<path class=\"bond-112 atom-112 atom-115\" d=\"M 126.6,38.6 L 113.1,46.3\" style=\"fill:none;fill-rule:evenodd;stroke:#000000;stroke-width:2.0px;stroke-linecap:butt;stroke-linejoin:miter;stroke-opacity:1\"/>\n",
       "<path class=\"bond-113 atom-112 atom-113\" d=\"M 126.6,38.6 L 131.8,29.2\" style=\"fill:none;fill-rule:evenodd;stroke:#000000;stroke-width:2.0px;stroke-linecap:butt;stroke-linejoin:miter;stroke-opacity:1\"/>\n",
       "<path class=\"bond-114 atom-114 atom-112\" d=\"M 121.3,29.2 L 126.6,38.6\" style=\"fill:none;fill-rule:evenodd;stroke:#000000;stroke-width:2.0px;stroke-linecap:butt;stroke-linejoin:miter;stroke-opacity:1\"/>\n",
       "<path class=\"bond-115 atom-115 atom-116\" d=\"M 113.1,46.3 L 118.5,55.6\" style=\"fill:none;fill-rule:evenodd;stroke:#000000;stroke-width:2.0px;stroke-linecap:butt;stroke-linejoin:miter;stroke-opacity:1\"/>\n",
       "<path class=\"bond-116 atom-117 atom-115\" d=\"M 107.9,55.8 L 113.1,46.3\" style=\"fill:none;fill-rule:evenodd;stroke:#000000;stroke-width:2.0px;stroke-linecap:butt;stroke-linejoin:miter;stroke-opacity:1\"/>\n",
       "<path class=\"bond-117 atom-118 atom-121\" d=\"M 99.5,38.7 L 86.2,46.4\" style=\"fill:none;fill-rule:evenodd;stroke:#000000;stroke-width:2.0px;stroke-linecap:butt;stroke-linejoin:miter;stroke-opacity:1\"/>\n",
       "<path class=\"bond-118 atom-118 atom-120\" d=\"M 99.5,38.7 L 104.8,29.1\" style=\"fill:none;fill-rule:evenodd;stroke:#000000;stroke-width:2.0px;stroke-linecap:butt;stroke-linejoin:miter;stroke-opacity:1\"/>\n",
       "<path class=\"bond-119 atom-118 atom-115\" d=\"M 99.5,38.7 L 113.1,46.3\" style=\"fill:none;fill-rule:evenodd;stroke:#000000;stroke-width:2.0px;stroke-linecap:butt;stroke-linejoin:miter;stroke-opacity:1\"/>\n",
       "<path class=\"bond-120 atom-119 atom-118\" d=\"M 94.0,29.2 L 99.5,38.7\" style=\"fill:none;fill-rule:evenodd;stroke:#000000;stroke-width:2.0px;stroke-linecap:butt;stroke-linejoin:miter;stroke-opacity:1\"/>\n",
       "<path class=\"bond-121 atom-121 atom-124\" d=\"M 86.2,46.4 L 91.5,55.8\" style=\"fill:none;fill-rule:evenodd;stroke:#000000;stroke-width:2.0px;stroke-linecap:butt;stroke-linejoin:miter;stroke-opacity:1\"/>\n",
       "<path class=\"bond-122 atom-122 atom-121\" d=\"M 80.7,55.8 L 86.2,46.4\" style=\"fill:none;fill-rule:evenodd;stroke:#000000;stroke-width:2.0px;stroke-linecap:butt;stroke-linejoin:miter;stroke-opacity:1\"/>\n",
       "<path class=\"bond-123 atom-123 atom-121\" d=\"M 76.0,40.5 L 86.2,46.4\" style=\"fill:none;fill-rule:evenodd;stroke:#000000;stroke-width:2.0px;stroke-linecap:butt;stroke-linejoin:miter;stroke-opacity:1\"/>\n",
       "<path d=\"M 313.5,68.5 L 313.2,68.6 L 313.2,69.4\" style=\"fill:none;stroke:#000000;stroke-width:2.0px;stroke-linecap:butt;stroke-linejoin:miter;stroke-opacity:1;\"/>\n",
       "<path d=\"M 287.2,38.7 L 286.9,38.5 L 286.3,38.9\" style=\"fill:none;stroke:#000000;stroke-width:2.0px;stroke-linecap:butt;stroke-linejoin:miter;stroke-opacity:1;\"/>\n",
       "<path class=\"atom-0\" d=\"M 410.3 29.0 L 412.5 32.4 Q 412.7 32.8, 413.0 33.4 Q 413.4 34.0, 413.4 34.0 L 413.4 29.0 L 414.2 29.0 L 414.2 35.5 L 413.3 35.5 L 411.1 31.7 Q 410.8 31.3, 410.5 30.8 Q 410.2 30.3, 410.1 30.1 L 410.1 35.5 L 409.3 35.5 L 409.3 29.0 L 410.3 29.0 \" fill=\"#0000FF\"/>\n",
       "<path class=\"atom-0\" d=\"M 415.5 30.1 L 416.6 30.1 L 416.6 28.9 L 417.1 28.9 L 417.1 30.1 L 418.3 30.1 L 418.3 30.6 L 417.1 30.6 L 417.1 31.8 L 416.6 31.8 L 416.6 30.6 L 415.5 30.6 L 415.5 30.1 \" fill=\"#0000FF\"/>\n",
       "<path class=\"atom-1\" d=\"M 409.4 13.6 L 410.3 13.6 L 410.3 16.4 L 413.6 16.4 L 413.6 13.6 L 414.5 13.6 L 414.5 20.2 L 413.6 20.2 L 413.6 17.1 L 410.3 17.1 L 410.3 20.2 L 409.4 20.2 L 409.4 13.6 \" fill=\"#000000\"/>\n",
       "<path class=\"atom-2\" d=\"M 424.5 29.2 L 425.4 29.2 L 425.4 31.9 L 428.7 31.9 L 428.7 29.2 L 429.6 29.2 L 429.6 35.7 L 428.7 35.7 L 428.7 32.7 L 425.4 32.7 L 425.4 35.7 L 424.5 35.7 L 424.5 29.2 \" fill=\"#000000\"/>\n",
       "<path class=\"atom-3\" d=\"M 396.3 21.1 L 397.2 21.1 L 397.2 23.8 L 400.5 23.8 L 400.5 21.1 L 401.4 21.1 L 401.4 27.6 L 400.5 27.6 L 400.5 24.6 L 397.2 24.6 L 397.2 27.6 L 396.3 27.6 L 396.3 21.1 \" fill=\"#000000\"/>\n",
       "<path class=\"atom-5\" d=\"M 414.5 50.2 L 415.3 50.2 L 415.3 53.0 L 418.7 53.0 L 418.7 50.2 L 419.6 50.2 L 419.6 56.7 L 418.7 56.7 L 418.7 53.7 L 415.3 53.7 L 415.3 56.7 L 414.5 56.7 L 414.5 50.2 \" fill=\"#000000\"/>\n",
       "<path class=\"atom-6\" d=\"M 401.2 57.8 L 402.1 57.8 L 402.1 60.5 L 405.4 60.5 L 405.4 57.8 L 406.3 57.8 L 406.3 64.3 L 405.4 64.3 L 405.4 61.3 L 402.1 61.3 L 402.1 64.3 L 401.2 64.3 L 401.2 57.8 \" fill=\"#000000\"/>\n",
       "<path class=\"atom-8\" d=\"M 373.2 34.9 L 374.1 34.9 L 374.1 37.7 L 377.5 37.7 L 377.5 34.9 L 378.3 34.9 L 378.3 41.4 L 377.5 41.4 L 377.5 38.4 L 374.1 38.4 L 374.1 41.4 L 373.2 41.4 L 373.2 34.9 \" fill=\"#000000\"/>\n",
       "<path class=\"atom-9\" d=\"M 385.8 27.4 L 386.6 27.4 L 386.6 30.2 L 390.0 30.2 L 390.0 27.4 L 390.9 27.4 L 390.9 34.0 L 390.0 34.0 L 390.0 31.0 L 386.6 31.0 L 386.6 34.0 L 385.8 34.0 L 385.8 27.4 \" fill=\"#000000\"/>\n",
       "<path class=\"atom-10\" d=\"M 365.5 56.5 Q 366.6 56.5, 367.2 57.0 Q 367.8 57.5, 367.8 58.4 Q 367.8 59.3, 367.2 59.8 Q 366.6 60.3, 365.5 60.3 L 364.5 60.3 L 364.5 63.0 L 363.6 63.0 L 363.6 56.5 L 365.5 56.5 M 365.5 59.6 Q 366.2 59.6, 366.5 59.3 Q 366.8 59.0, 366.8 58.4 Q 366.8 57.8, 366.5 57.5 Q 366.2 57.2, 365.5 57.2 L 364.5 57.2 L 364.5 59.6 L 365.5 59.6 \" fill=\"#FF7F00\"/>\n",
       "<path class=\"atom-11\" d=\"M 362.8 45.3 Q 362.8 43.7, 363.6 42.9 Q 364.4 42.0, 365.8 42.0 Q 367.2 42.0, 368.0 42.9 Q 368.8 43.7, 368.8 45.3 Q 368.8 46.9, 368.0 47.8 Q 367.2 48.7, 365.8 48.7 Q 364.4 48.7, 363.6 47.8 Q 362.8 46.9, 362.8 45.3 M 365.8 48.0 Q 366.8 48.0, 367.3 47.3 Q 367.9 46.6, 367.9 45.3 Q 367.9 44.0, 367.3 43.4 Q 366.8 42.7, 365.8 42.7 Q 364.8 42.7, 364.3 43.4 Q 363.7 44.0, 363.7 45.3 Q 363.7 46.6, 364.3 47.3 Q 364.8 48.0, 365.8 48.0 \" fill=\"#FF0000\"/>\n",
       "<path class=\"atom-12\" d=\"M 362.5 75.1 Q 362.5 73.5, 363.3 72.6 Q 364.1 71.8, 365.5 71.8 Q 367.0 71.8, 367.8 72.6 Q 368.5 73.5, 368.5 75.1 Q 368.5 76.7, 367.8 77.6 Q 367.0 78.5, 365.5 78.5 Q 364.1 78.5, 363.3 77.6 Q 362.5 76.7, 362.5 75.1 M 365.5 77.7 Q 366.5 77.7, 367.1 77.1 Q 367.6 76.4, 367.6 75.1 Q 367.6 73.8, 367.1 73.2 Q 366.5 72.5, 365.5 72.5 Q 364.5 72.5, 364.0 73.1 Q 363.5 73.8, 363.5 75.1 Q 363.5 76.4, 364.0 77.1 Q 364.5 77.7, 365.5 77.7 \" fill=\"#FF0000\"/>\n",
       "<path class=\"atom-12\" d=\"M 369.5 72.8 L 371.7 72.8 L 371.7 73.3 L 369.5 73.3 L 369.5 72.8 \" fill=\"#FF0000\"/>\n",
       "<path class=\"atom-13\" d=\"M 347.4 59.2 Q 347.4 57.7, 348.2 56.8 Q 349.0 55.9, 350.4 55.9 Q 351.9 55.9, 352.7 56.8 Q 353.4 57.7, 353.4 59.2 Q 353.4 60.8, 352.7 61.7 Q 351.9 62.6, 350.4 62.6 Q 349.0 62.6, 348.2 61.7 Q 347.4 60.8, 347.4 59.2 M 350.4 61.9 Q 351.4 61.9, 352.0 61.2 Q 352.5 60.6, 352.5 59.2 Q 352.5 58.0, 352.0 57.3 Q 351.4 56.7, 350.4 56.7 Q 349.4 56.7, 348.9 57.3 Q 348.4 58.0, 348.4 59.2 Q 348.4 60.6, 348.9 61.2 Q 349.4 61.9, 350.4 61.9 \" fill=\"#FF0000\"/>\n",
       "<path class=\"atom-14\" d=\"M 378.0 59.5 Q 378.0 57.9, 378.7 57.1 Q 379.5 56.2, 381.0 56.2 Q 382.4 56.2, 383.2 57.1 Q 384.0 57.9, 384.0 59.5 Q 384.0 61.1, 383.2 62.0 Q 382.4 62.9, 381.0 62.9 Q 379.5 62.9, 378.7 62.0 Q 378.0 61.1, 378.0 59.5 M 381.0 62.2 Q 382.0 62.2, 382.5 61.5 Q 383.0 60.8, 383.0 59.5 Q 383.0 58.2, 382.5 57.6 Q 382.0 56.9, 381.0 56.9 Q 380.0 56.9, 379.4 57.6 Q 378.9 58.2, 378.9 59.5 Q 378.9 60.8, 379.4 61.5 Q 380.0 62.2, 381.0 62.2 \" fill=\"#FF0000\"/>\n",
       "<path class=\"atom-16\" d=\"M 353.2 35.0 L 354.1 35.0 L 354.1 37.8 L 357.4 37.8 L 357.4 35.0 L 358.3 35.0 L 358.3 41.5 L 357.4 41.5 L 357.4 38.5 L 354.1 38.5 L 354.1 41.5 L 353.2 41.5 L 353.2 35.0 \" fill=\"#000000\"/>\n",
       "<path class=\"atom-17\" d=\"M 341.8 27.0 L 342.6 27.0 L 342.6 29.7 L 346.0 29.7 L 346.0 27.0 L 346.9 27.0 L 346.9 33.5 L 346.0 33.5 L 346.0 30.5 L 342.6 30.5 L 342.6 33.5 L 341.8 33.5 L 341.8 27.0 \" fill=\"#000000\"/>\n",
       "<path class=\"atom-19\" d=\"M 329.3 28.7 L 330.2 28.7 L 330.2 31.4 L 333.6 31.4 L 333.6 28.7 L 334.4 28.7 L 334.4 35.2 L 333.6 35.2 L 333.6 32.2 L 330.2 32.2 L 330.2 35.2 L 329.3 35.2 L 329.3 28.7 \" fill=\"#000000\"/>\n",
       "<path class=\"atom-20\" d=\"M 323.3 60.7 Q 323.3 59.1, 324.1 58.3 Q 324.9 57.4, 326.3 57.4 Q 327.8 57.4, 328.5 58.3 Q 329.3 59.1, 329.3 60.7 Q 329.3 62.3, 328.5 63.2 Q 327.7 64.1, 326.3 64.1 Q 324.9 64.1, 324.1 63.2 Q 323.3 62.3, 323.3 60.7 M 326.3 63.4 Q 327.3 63.4, 327.8 62.7 Q 328.4 62.0, 328.4 60.7 Q 328.4 59.4, 327.8 58.8 Q 327.3 58.1, 326.3 58.1 Q 325.3 58.1, 324.8 58.8 Q 324.2 59.4, 324.2 60.7 Q 324.2 62.0, 324.8 62.7 Q 325.3 63.4, 326.3 63.4 \" fill=\"#FF0000\"/>\n",
       "<path class=\"atom-22\" d=\"M 296.7 61.3 Q 296.7 59.8, 297.5 58.9 Q 298.2 58.0, 299.7 58.0 Q 301.1 58.0, 301.9 58.9 Q 302.7 59.8, 302.7 61.3 Q 302.7 62.9, 301.9 63.8 Q 301.1 64.7, 299.7 64.7 Q 298.2 64.7, 297.5 63.8 Q 296.7 62.9, 296.7 61.3 M 299.7 64.0 Q 300.7 64.0, 301.2 63.3 Q 301.7 62.7, 301.7 61.3 Q 301.7 60.1, 301.2 59.4 Q 300.7 58.8, 299.7 58.8 Q 298.7 58.8, 298.1 59.4 Q 297.6 60.1, 297.6 61.3 Q 297.6 62.7, 298.1 63.3 Q 298.7 64.0, 299.7 64.0 \" fill=\"#FF0000\"/>\n",
       "<path class=\"atom-24\" d=\"M 319.0 93.6 L 319.9 93.6 L 319.9 96.4 L 323.2 96.4 L 323.2 93.6 L 324.1 93.6 L 324.1 100.1 L 323.2 100.1 L 323.2 97.1 L 319.9 97.1 L 319.9 100.1 L 319.0 100.1 L 319.0 93.6 \" fill=\"#000000\"/>\n",
       "<path class=\"atom-25\" d=\"M 326.4 80.2 L 327.3 80.2 L 327.3 83.0 L 330.6 83.0 L 330.6 80.2 L 331.5 80.2 L 331.5 86.7 L 330.6 86.7 L 330.6 83.7 L 327.3 83.7 L 327.3 86.7 L 326.4 86.7 L 326.4 80.2 \" fill=\"#000000\"/>\n",
       "<path class=\"atom-27\" d=\"M 302.3 21.8 L 303.2 21.8 L 303.2 24.6 L 306.5 24.6 L 306.5 21.8 L 307.4 21.8 L 307.4 28.3 L 306.5 28.3 L 306.5 25.3 L 303.2 25.3 L 303.2 28.3 L 302.3 28.3 L 302.3 21.8 \" fill=\"#000000\"/>\n",
       "<path class=\"atom-28\" d=\"M 317.6 21.5 L 318.5 21.5 L 318.5 24.3 L 321.8 24.3 L 321.8 21.5 L 322.7 21.5 L 322.7 28.1 L 321.8 28.1 L 321.8 25.0 L 318.5 25.0 L 318.5 28.1 L 317.6 28.1 L 317.6 21.5 \" fill=\"#000000\"/>\n",
       "<path class=\"atom-29\" d=\"M 297.0 46.0 Q 297.0 44.5, 297.8 43.6 Q 298.6 42.7, 300.0 42.7 Q 301.4 42.7, 302.2 43.6 Q 303.0 44.5, 303.0 46.0 Q 303.0 47.6, 302.2 48.5 Q 301.4 49.4, 300.0 49.4 Q 298.6 49.4, 297.8 48.5 Q 297.0 47.6, 297.0 46.0 M 300.0 48.7 Q 301.0 48.7, 301.5 48.0 Q 302.1 47.4, 302.1 46.0 Q 302.1 44.8, 301.5 44.1 Q 301.0 43.5, 300.0 43.5 Q 299.0 43.5, 298.5 44.1 Q 297.9 44.8, 297.9 46.0 Q 297.9 47.4, 298.5 48.0 Q 299.0 48.7, 300.0 48.7 \" fill=\"#FF0000\"/>\n",
       "<path class=\"atom-31\" d=\"M 283.8 23.2 Q 283.8 21.6, 284.5 20.7 Q 285.3 19.9, 286.8 19.9 Q 288.2 19.9, 289.0 20.7 Q 289.7 21.6, 289.7 23.2 Q 289.7 24.8, 289.0 25.7 Q 288.2 26.6, 286.8 26.6 Q 285.3 26.6, 284.5 25.7 Q 283.8 24.8, 283.8 23.2 M 286.8 25.8 Q 287.7 25.8, 288.3 25.2 Q 288.8 24.5, 288.8 23.2 Q 288.8 21.9, 288.3 21.3 Q 287.7 20.6, 286.8 20.6 Q 285.8 20.6, 285.2 21.2 Q 284.7 21.9, 284.7 23.2 Q 284.7 24.5, 285.2 25.2 Q 285.8 25.8, 286.8 25.8 \" fill=\"#FF0000\"/>\n",
       "<path class=\"atom-33\" d=\"M 264.3 56.2 L 265.2 56.2 L 265.2 59.0 L 268.6 59.0 L 268.6 56.2 L 269.4 56.2 L 269.4 62.7 L 268.6 62.7 L 268.6 59.7 L 265.2 59.7 L 265.2 62.7 L 264.3 62.7 L 264.3 56.2 \" fill=\"#000000\"/>\n",
       "<path class=\"atom-34\" d=\"M 279.5 56.1 L 280.3 56.1 L 280.3 58.8 L 283.7 58.8 L 283.7 56.1 L 284.6 56.1 L 284.6 62.6 L 283.7 62.6 L 283.7 59.6 L 280.3 59.6 L 280.3 62.6 L 279.5 62.6 L 279.5 56.1 \" fill=\"#000000\"/>\n",
       "<path class=\"atom-36\" d=\"M 282.7 88.1 L 283.6 88.1 L 283.6 90.9 L 287.0 90.9 L 287.0 88.1 L 287.8 88.1 L 287.8 94.6 L 287.0 94.6 L 287.0 91.6 L 283.6 91.6 L 283.6 94.6 L 282.7 94.6 L 282.7 88.1 \" fill=\"#000000\"/>\n",
       "<path class=\"atom-37\" d=\"M 290.2 75.1 L 291.1 75.1 L 291.1 77.9 L 294.5 77.9 L 294.5 75.1 L 295.3 75.1 L 295.3 81.6 L 294.5 81.6 L 294.5 78.6 L 291.1 78.6 L 291.1 81.6 L 290.2 81.6 L 290.2 75.1 \" fill=\"#000000\"/>\n",
       "<path class=\"atom-39\" d=\"M 312.9 104.2 L 313.8 104.2 L 313.8 107.0 L 317.1 107.0 L 317.1 104.2 L 318.0 104.2 L 318.0 110.8 L 317.1 110.8 L 317.1 107.8 L 313.8 107.8 L 313.8 110.8 L 312.9 110.8 L 312.9 104.2 \" fill=\"#000000\"/>\n",
       "<path class=\"atom-40\" d=\"M 305.3 117.2 L 306.2 117.2 L 306.2 119.9 L 309.5 119.9 L 309.5 117.2 L 310.4 117.2 L 310.4 123.7 L 309.5 123.7 L 309.5 120.7 L 306.2 120.7 L 306.2 123.7 L 305.3 123.7 L 305.3 117.2 \" fill=\"#000000\"/>\n",
       "<path class=\"atom-42\" d=\"M 268.8 111.3 L 269.6 111.3 L 269.6 114.0 L 273.0 114.0 L 273.0 111.3 L 273.9 111.3 L 273.9 117.8 L 273.0 117.8 L 273.0 114.8 L 269.6 114.8 L 269.6 117.8 L 268.8 117.8 L 268.8 111.3 \" fill=\"#000000\"/>\n",
       "<path class=\"atom-43\" d=\"M 276.5 98.6 L 277.3 98.6 L 277.3 101.4 L 280.7 101.4 L 280.7 98.6 L 281.6 98.6 L 281.6 105.2 L 280.7 105.2 L 280.7 102.2 L 277.3 102.2 L 277.3 105.2 L 276.5 105.2 L 276.5 98.6 \" fill=\"#000000\"/>\n",
       "<path class=\"atom-45\" d=\"M 298.4 127.4 L 299.3 127.4 L 299.3 130.2 L 302.7 130.2 L 302.7 127.4 L 303.5 127.4 L 303.5 133.9 L 302.7 133.9 L 302.7 130.9 L 299.3 130.9 L 299.3 133.9 L 298.4 133.9 L 298.4 127.4 \" fill=\"#000000\"/>\n",
       "<path class=\"atom-46\" d=\"M 290.2 139.6 L 291.1 139.6 L 291.1 142.4 L 294.4 142.4 L 294.4 139.6 L 295.3 139.6 L 295.3 146.1 L 294.4 146.1 L 294.4 143.1 L 291.1 143.1 L 291.1 146.1 L 290.2 146.1 L 290.2 139.6 \" fill=\"#000000\"/>\n",
       "<path class=\"atom-48\" d=\"M 260.8 120.6 L 261.7 120.6 L 261.7 123.4 L 265.0 123.4 L 265.0 120.6 L 265.9 120.6 L 265.9 127.1 L 265.0 127.1 L 265.0 124.1 L 261.7 124.1 L 261.7 127.1 L 260.8 127.1 L 260.8 120.6 \" fill=\"#000000\"/>\n",
       "<path class=\"atom-49\" d=\"M 252.3 132.8 L 253.2 132.8 L 253.2 135.6 L 256.5 135.6 L 256.5 132.8 L 257.4 132.8 L 257.4 139.3 L 256.5 139.3 L 256.5 136.3 L 253.2 136.3 L 253.2 139.3 L 252.3 139.3 L 252.3 132.8 \" fill=\"#000000\"/>\n",
       "<path class=\"atom-51\" d=\"M 265.0 160.8 L 265.9 160.8 L 265.9 163.6 L 269.2 163.6 L 269.2 160.8 L 270.1 160.8 L 270.1 167.3 L 269.2 167.3 L 269.2 164.3 L 265.9 164.3 L 265.9 167.3 L 265.0 167.3 L 265.0 160.8 \" fill=\"#000000\"/>\n",
       "<path class=\"atom-52\" d=\"M 251.1 152.0 L 252.0 152.0 L 252.0 154.7 L 255.3 154.7 L 255.3 152.0 L 256.2 152.0 L 256.2 158.5 L 255.3 158.5 L 255.3 155.5 L 252.0 155.5 L 252.0 158.5 L 251.1 158.5 L 251.1 152.0 \" fill=\"#000000\"/>\n",
       "<path class=\"atom-54\" d=\"M 295.1 150.8 L 296.0 150.8 L 296.0 153.6 L 299.3 153.6 L 299.3 150.8 L 300.2 150.8 L 300.2 157.3 L 299.3 157.3 L 299.3 154.3 L 296.0 154.3 L 296.0 157.3 L 295.1 157.3 L 295.1 150.8 \" fill=\"#000000\"/>\n",
       "<path class=\"atom-56\" d=\"M 295.3 183.0 L 296.1 183.0 L 296.1 185.8 L 299.5 185.8 L 299.5 183.0 L 300.4 183.0 L 300.4 189.5 L 299.5 189.5 L 299.5 186.5 L 296.1 186.5 L 296.1 189.5 L 295.3 189.5 L 295.3 183.0 \" fill=\"#000000\"/>\n",
       "<path class=\"atom-58\" d=\"M 268.2 170.7 L 269.1 170.7 L 269.1 173.4 L 272.4 173.4 L 272.4 170.7 L 273.3 170.7 L 273.3 177.2 L 272.4 177.2 L 272.4 174.2 L 269.1 174.2 L 269.1 177.2 L 268.2 177.2 L 268.2 170.7 \" fill=\"#000000\"/>\n",
       "<path class=\"atom-59\" d=\"M 252.9 179.1 L 253.7 179.1 L 253.7 181.9 L 257.1 181.9 L 257.1 179.1 L 258.0 179.1 L 258.0 185.6 L 257.1 185.6 L 257.1 182.6 L 253.7 182.6 L 253.7 185.6 L 252.9 185.6 L 252.9 179.1 \" fill=\"#000000\"/>\n",
       "<path class=\"atom-61\" d=\"M 283.7 195.1 L 284.6 195.1 L 284.6 197.9 L 287.9 197.9 L 287.9 195.1 L 288.8 195.1 L 288.8 201.7 L 287.9 201.7 L 287.9 198.6 L 284.6 198.6 L 284.6 201.7 L 283.7 201.7 L 283.7 195.1 \" fill=\"#000000\"/>\n",
       "<path class=\"atom-62\" d=\"M 277.4 208.5 L 278.2 208.5 L 278.2 211.3 L 281.6 211.3 L 281.6 208.5 L 282.5 208.5 L 282.5 215.1 L 281.6 215.1 L 281.6 212.1 L 278.2 212.1 L 278.2 215.1 L 277.4 215.1 L 277.4 208.5 \" fill=\"#000000\"/>\n",
       "<path class=\"atom-64\" d=\"M 242.0 204.2 L 242.9 204.2 L 242.9 207.0 L 246.3 207.0 L 246.3 204.2 L 247.1 204.2 L 247.1 210.8 L 246.3 210.8 L 246.3 207.8 L 242.9 207.8 L 242.9 210.8 L 242.0 210.8 L 242.0 204.2 \" fill=\"#000000\"/>\n",
       "<path class=\"atom-65\" d=\"M 248.8 191.3 L 249.7 191.3 L 249.7 194.1 L 253.0 194.1 L 253.0 191.3 L 253.9 191.3 L 253.9 197.9 L 253.0 197.9 L 253.0 194.8 L 249.7 194.8 L 249.7 197.9 L 248.8 197.9 L 248.8 191.3 \" fill=\"#000000\"/>\n",
       "<path class=\"atom-67\" d=\"M 272.3 219.8 L 273.2 219.8 L 273.2 222.6 L 276.5 222.6 L 276.5 219.8 L 277.4 219.8 L 277.4 226.3 L 276.5 226.3 L 276.5 223.3 L 273.2 223.3 L 273.2 226.3 L 272.3 226.3 L 272.3 219.8 \" fill=\"#000000\"/>\n",
       "<path class=\"atom-68\" d=\"M 265.3 232.5 L 266.2 232.5 L 266.2 235.3 L 269.5 235.3 L 269.5 232.5 L 270.4 232.5 L 270.4 239.1 L 269.5 239.1 L 269.5 236.1 L 266.2 236.1 L 266.2 239.1 L 265.3 239.1 L 265.3 232.5 \" fill=\"#000000\"/>\n",
       "<path class=\"atom-70\" d=\"M 236.3 215.1 L 237.2 215.1 L 237.2 217.8 L 240.5 217.8 L 240.5 215.1 L 241.4 215.1 L 241.4 221.6 L 240.5 221.6 L 240.5 218.6 L 237.2 218.6 L 237.2 221.6 L 236.3 221.6 L 236.3 215.1 \" fill=\"#000000\"/>\n",
       "<path class=\"atom-71\" d=\"M 229.1 227.6 L 230.0 227.6 L 230.0 230.4 L 233.3 230.4 L 233.3 227.6 L 234.2 227.6 L 234.2 234.2 L 233.3 234.2 L 233.3 231.1 L 230.0 231.1 L 230.0 234.2 L 229.1 234.2 L 229.1 227.6 \" fill=\"#000000\"/>\n",
       "<path class=\"atom-73\" d=\"M 252.0 256.0 L 252.9 256.0 L 252.9 258.8 L 256.2 258.8 L 256.2 256.0 L 257.1 256.0 L 257.1 262.6 L 256.2 262.6 L 256.2 259.6 L 252.9 259.6 L 252.9 262.6 L 252.0 262.6 L 252.0 256.0 \" fill=\"#000000\"/>\n",
       "<path class=\"atom-74\" d=\"M 259.2 243.3 L 260.1 243.3 L 260.1 246.0 L 263.4 246.0 L 263.4 243.3 L 264.3 243.3 L 264.3 249.8 L 263.4 249.8 L 263.4 246.8 L 260.1 246.8 L 260.1 249.8 L 259.2 249.8 L 259.2 243.3 \" fill=\"#000000\"/>\n",
       "<path class=\"atom-76\" d=\"M 222.9 238.3 L 223.7 238.3 L 223.7 241.0 L 227.1 241.0 L 227.1 238.3 L 228.0 238.3 L 228.0 244.8 L 227.1 244.8 L 227.1 241.8 L 223.7 241.8 L 223.7 244.8 L 222.9 244.8 L 222.9 238.3 \" fill=\"#000000\"/>\n",
       "<path class=\"atom-77\" d=\"M 215.4 251.3 L 216.3 251.3 L 216.3 254.0 L 219.6 254.0 L 219.6 251.3 L 220.5 251.3 L 220.5 257.8 L 219.6 257.8 L 219.6 254.8 L 216.3 254.8 L 216.3 257.8 L 215.4 257.8 L 215.4 251.3 \" fill=\"#000000\"/>\n",
       "<path class=\"atom-79\" d=\"M 245.9 266.7 L 246.8 266.7 L 246.8 269.5 L 250.1 269.5 L 250.1 266.7 L 251.0 266.7 L 251.0 273.3 L 250.1 273.3 L 250.1 270.3 L 246.8 270.3 L 246.8 273.3 L 245.9 273.3 L 245.9 266.7 \" fill=\"#000000\"/>\n",
       "<path class=\"atom-80\" d=\"M 238.3 279.8 L 239.2 279.8 L 239.2 282.6 L 242.6 282.6 L 242.6 279.8 L 243.4 279.8 L 243.4 286.4 L 242.6 286.4 L 242.6 283.3 L 239.2 283.3 L 239.2 286.4 L 238.3 286.4 L 238.3 279.8 \" fill=\"#000000\"/>\n",
       "<path class=\"atom-81\" d=\"M 217.5 274.2 L 218.3 274.2 L 218.3 276.9 L 221.7 276.9 L 221.7 274.2 L 222.6 274.2 L 222.6 280.7 L 221.7 280.7 L 221.7 277.7 L 218.3 277.7 L 218.3 280.7 L 217.5 280.7 L 217.5 274.2 \" fill=\"#000000\"/>\n",
       "<path class=\"atom-83\" d=\"M 251.1 22.1 L 251.9 22.1 L 251.9 24.8 L 255.3 24.8 L 255.3 22.1 L 256.2 22.1 L 256.2 28.6 L 255.3 28.6 L 255.3 25.6 L 251.9 25.6 L 251.9 28.6 L 251.1 28.6 L 251.1 22.1 \" fill=\"#000000\"/>\n",
       "<path class=\"atom-84\" d=\"M 266.1 22.1 L 267.0 22.1 L 267.0 24.9 L 270.3 24.9 L 270.3 22.1 L 271.2 22.1 L 271.2 28.6 L 270.3 28.6 L 270.3 25.6 L 267.0 25.6 L 267.0 28.6 L 266.1 28.6 L 266.1 22.1 \" fill=\"#000000\"/>\n",
       "<path class=\"atom-86\" d=\"M 237.4 56.0 L 238.3 56.0 L 238.3 58.8 L 241.6 58.8 L 241.6 56.0 L 242.5 56.0 L 242.5 62.6 L 241.6 62.6 L 241.6 59.6 L 238.3 59.6 L 238.3 62.6 L 237.4 62.6 L 237.4 56.0 \" fill=\"#000000\"/>\n",
       "<path class=\"atom-87\" d=\"M 252.0 56.1 L 252.9 56.1 L 252.9 58.9 L 256.3 58.9 L 256.3 56.1 L 257.1 56.1 L 257.1 62.7 L 256.3 62.7 L 256.3 59.7 L 252.9 59.7 L 252.9 62.7 L 252.0 62.7 L 252.0 56.1 \" fill=\"#000000\"/>\n",
       "<path class=\"atom-89\" d=\"M 224.1 22.1 L 225.0 22.1 L 225.0 24.9 L 228.3 24.9 L 228.3 22.1 L 229.2 22.1 L 229.2 28.6 L 228.3 28.6 L 228.3 25.6 L 225.0 25.6 L 225.0 28.6 L 224.1 28.6 L 224.1 22.1 \" fill=\"#000000\"/>\n",
       "<path class=\"atom-90\" d=\"M 238.8 22.1 L 239.6 22.1 L 239.6 24.8 L 243.0 24.8 L 243.0 22.1 L 243.9 22.1 L 243.9 28.6 L 243.0 28.6 L 243.0 25.6 L 239.6 25.6 L 239.6 28.6 L 238.8 28.6 L 238.8 22.1 \" fill=\"#000000\"/>\n",
       "<path class=\"atom-92\" d=\"M 210.6 56.0 L 211.5 56.0 L 211.5 58.8 L 214.8 58.8 L 214.8 56.0 L 215.7 56.0 L 215.7 62.5 L 214.8 62.5 L 214.8 59.5 L 211.5 59.5 L 211.5 62.5 L 210.6 62.5 L 210.6 56.0 \" fill=\"#000000\"/>\n",
       "<path class=\"atom-93\" d=\"M 225.1 56.0 L 226.0 56.0 L 226.0 58.8 L 229.3 58.8 L 229.3 56.0 L 230.2 56.0 L 230.2 62.6 L 229.3 62.6 L 229.3 59.5 L 226.0 59.5 L 226.0 62.6 L 225.1 62.6 L 225.1 56.0 \" fill=\"#000000\"/>\n",
       "<path class=\"atom-95\" d=\"M 211.8 22.1 L 212.7 22.1 L 212.7 24.9 L 216.0 24.9 L 216.0 22.1 L 216.9 22.1 L 216.9 28.6 L 216.0 28.6 L 216.0 25.6 L 212.7 25.6 L 212.7 28.6 L 211.8 28.6 L 211.8 22.1 \" fill=\"#000000\"/>\n",
       "<path class=\"atom-96\" d=\"M 197.3 22.1 L 198.2 22.1 L 198.2 24.9 L 201.5 24.9 L 201.5 22.1 L 202.4 22.1 L 202.4 28.7 L 201.5 28.7 L 201.5 25.7 L 198.2 25.7 L 198.2 28.7 L 197.3 28.7 L 197.3 22.1 \" fill=\"#000000\"/>\n",
       "<path class=\"atom-98\" d=\"M 183.9 56.0 L 184.8 56.0 L 184.8 58.8 L 188.1 58.8 L 188.1 56.0 L 189.0 56.0 L 189.0 62.5 L 188.1 62.5 L 188.1 59.5 L 184.8 59.5 L 184.8 62.5 L 183.9 62.5 L 183.9 56.0 \" fill=\"#000000\"/>\n",
       "<path class=\"atom-99\" d=\"M 198.3 56.0 L 199.2 56.0 L 199.2 58.8 L 202.6 58.8 L 202.6 56.0 L 203.5 56.0 L 203.5 62.5 L 202.6 62.5 L 202.6 59.5 L 199.2 59.5 L 199.2 62.5 L 198.3 62.5 L 198.3 56.0 \" fill=\"#000000\"/>\n",
       "<path class=\"atom-101\" d=\"M 170.5 22.2 L 171.4 22.2 L 171.4 24.9 L 174.7 24.9 L 174.7 22.2 L 175.6 22.2 L 175.6 28.7 L 174.7 28.7 L 174.7 25.7 L 171.4 25.7 L 171.4 28.7 L 170.5 28.7 L 170.5 22.2 \" fill=\"#000000\"/>\n",
       "<path class=\"atom-102\" d=\"M 184.9 22.2 L 185.8 22.2 L 185.8 24.9 L 189.2 24.9 L 189.2 22.2 L 190.0 22.2 L 190.0 28.7 L 189.2 28.7 L 189.2 25.7 L 185.8 25.7 L 185.8 28.7 L 184.9 28.7 L 184.9 22.2 \" fill=\"#000000\"/>\n",
       "<path class=\"atom-104\" d=\"M 157.2 56.0 L 158.0 56.0 L 158.0 58.8 L 161.4 58.8 L 161.4 56.0 L 162.3 56.0 L 162.3 62.6 L 161.4 62.6 L 161.4 59.5 L 158.0 59.5 L 158.0 62.6 L 157.2 62.6 L 157.2 56.0 \" fill=\"#000000\"/>\n",
       "<path class=\"atom-105\" d=\"M 171.6 56.0 L 172.5 56.0 L 172.5 58.8 L 175.8 58.8 L 175.8 56.0 L 176.7 56.0 L 176.7 62.5 L 175.8 62.5 L 175.8 59.5 L 172.5 59.5 L 172.5 62.5 L 171.6 62.5 L 171.6 56.0 \" fill=\"#000000\"/>\n",
       "<path class=\"atom-107\" d=\"M 158.2 22.2 L 159.1 22.2 L 159.1 24.9 L 162.4 24.9 L 162.4 22.2 L 163.3 22.2 L 163.3 28.7 L 162.4 28.7 L 162.4 25.7 L 159.1 25.7 L 159.1 28.7 L 158.2 28.7 L 158.2 22.2 \" fill=\"#000000\"/>\n",
       "<path class=\"atom-108\" d=\"M 143.7 22.2 L 144.6 22.2 L 144.6 24.9 L 147.9 24.9 L 147.9 22.2 L 148.8 22.2 L 148.8 28.7 L 147.9 28.7 L 147.9 25.7 L 144.6 25.7 L 144.6 28.7 L 143.7 28.7 L 143.7 22.2 \" fill=\"#000000\"/>\n",
       "<path class=\"atom-110\" d=\"M 144.9 56.0 L 145.8 56.0 L 145.8 58.8 L 149.1 58.8 L 149.1 56.0 L 150.0 56.0 L 150.0 62.6 L 149.1 62.6 L 149.1 59.6 L 145.8 59.6 L 145.8 62.6 L 144.9 62.6 L 144.9 56.0 \" fill=\"#000000\"/>\n",
       "<path class=\"atom-111\" d=\"M 130.3 56.1 L 131.2 56.1 L 131.2 58.9 L 134.5 58.9 L 134.5 56.1 L 135.4 56.1 L 135.4 62.6 L 134.5 62.6 L 134.5 59.6 L 131.2 59.6 L 131.2 62.6 L 130.3 62.6 L 130.3 56.1 \" fill=\"#000000\"/>\n",
       "<path class=\"atom-113\" d=\"M 131.3 22.1 L 132.2 22.1 L 132.2 24.9 L 135.6 24.9 L 135.6 22.1 L 136.4 22.1 L 136.4 28.7 L 135.6 28.7 L 135.6 25.7 L 132.2 25.7 L 132.2 28.7 L 131.3 28.7 L 131.3 22.1 \" fill=\"#000000\"/>\n",
       "<path class=\"atom-114\" d=\"M 116.6 22.1 L 117.5 22.1 L 117.5 24.9 L 120.9 24.9 L 120.9 22.1 L 121.7 22.1 L 121.7 28.7 L 120.9 28.7 L 120.9 25.7 L 117.5 25.7 L 117.5 28.7 L 116.6 28.7 L 116.6 22.1 \" fill=\"#000000\"/>\n",
       "<path class=\"atom-116\" d=\"M 118.0 56.1 L 118.9 56.1 L 118.9 58.9 L 122.3 58.9 L 122.3 56.1 L 123.2 56.1 L 123.2 62.7 L 122.3 62.7 L 122.3 59.7 L 118.9 59.7 L 118.9 62.7 L 118.0 62.7 L 118.0 56.1 \" fill=\"#000000\"/>\n",
       "<path class=\"atom-117\" d=\"M 103.3 56.3 L 104.2 56.3 L 104.2 59.0 L 107.6 59.0 L 107.6 56.3 L 108.4 56.3 L 108.4 62.8 L 107.6 62.8 L 107.6 59.8 L 104.2 59.8 L 104.2 62.8 L 103.3 62.8 L 103.3 56.3 \" fill=\"#000000\"/>\n",
       "<path class=\"atom-119\" d=\"M 89.3 22.2 L 90.1 22.2 L 90.1 25.0 L 93.5 25.0 L 93.5 22.2 L 94.4 22.2 L 94.4 28.7 L 93.5 28.7 L 93.5 25.7 L 90.1 25.7 L 90.1 28.7 L 89.3 28.7 L 89.3 22.2 \" fill=\"#000000\"/>\n",
       "<path class=\"atom-120\" d=\"M 104.3 22.1 L 105.2 22.1 L 105.2 24.9 L 108.6 24.9 L 108.6 22.1 L 109.4 22.1 L 109.4 28.6 L 108.6 28.6 L 108.6 25.6 L 105.2 25.6 L 105.2 28.6 L 104.3 28.6 L 104.3 22.1 \" fill=\"#000000\"/>\n",
       "<path class=\"atom-122\" d=\"M 75.9 56.4 L 76.8 56.4 L 76.8 59.1 L 80.2 59.1 L 80.2 56.4 L 81.0 56.4 L 81.0 62.9 L 80.2 62.9 L 80.2 59.9 L 76.8 59.9 L 76.8 62.9 L 75.9 62.9 L 75.9 56.4 \" fill=\"#000000\"/>\n",
       "<path class=\"atom-123\" d=\"M 70.4 35.4 L 71.3 35.4 L 71.3 38.2 L 74.6 38.2 L 74.6 35.4 L 75.5 35.4 L 75.5 42.0 L 74.6 42.0 L 74.6 38.9 L 71.3 38.9 L 71.3 42.0 L 70.4 42.0 L 70.4 35.4 \" fill=\"#000000\"/>\n",
       "<path class=\"atom-124\" d=\"M 91.1 56.3 L 91.9 56.3 L 91.9 59.1 L 95.3 59.1 L 95.3 56.3 L 96.2 56.3 L 96.2 62.9 L 95.3 62.9 L 95.3 59.9 L 91.9 59.9 L 91.9 62.9 L 91.1 62.9 L 91.1 56.3 \" fill=\"#000000\"/>\n",
       "</svg>"
      ],
      "text/plain": [
       "<IPython.core.display.SVG object>"
      ]
     },
     "execution_count": 2,
     "metadata": {},
     "output_type": "execute_result"
    }
   ],
   "source": [
    "# Load a molecule from a SDF file\n",
    "POPE = Molecule.from_file(\"POPE.sdf\")\n",
    "POPE.visualize()"
   ]
  },
  {
   "cell_type": "code",
   "execution_count": 3,
   "id": "b97856d4",
   "metadata": {},
   "outputs": [
    {
     "data": {
      "text/plain": [
       "<openff.toolkit.topology.topology.Topology at 0x1586a6390>"
      ]
     },
     "execution_count": 3,
     "metadata": {},
     "output_type": "execute_result"
    }
   ],
   "source": [
    "topology = Topology.from_molecules(\n",
    "    [POPE]\n",
    ")\n",
    "topology"
   ]
  },
  {
   "cell_type": "code",
   "execution_count": 4,
   "id": "d13d06c2",
   "metadata": {},
   "outputs": [
    {
     "data": {
      "text/plain": [
       "<openff.toolkit.typing.engines.smirnoff.forcefield.ForceField at 0x1589249d0>"
      ]
     },
     "execution_count": 4,
     "metadata": {},
     "output_type": "execute_result"
    }
   ],
   "source": [
    "forcefield = ForceField(\"openff-2.1.0.offxml\")\n",
    "forcefield"
   ]
  },
  {
   "cell_type": "code",
   "execution_count": 5,
   "id": "f766c0c5",
   "metadata": {},
   "outputs": [
    {
     "name": "stderr",
     "output_type": "stream",
     "text": [
      "/Users/patrickfrankel/anaconda3/envs/openff/lib/python3.11/site-packages/openff/interchange/smirnoff/_create.py:237: UserWarning: Automatically down-converting BondHandler from version 0.4 to 0.3. In the future, this down-conversion will not happen and verison 0.3 will not be supported.\n",
      "  _downconvert_vdw_handler(force_field[\"vdW\"])\n"
     ]
    },
    {
     "data": {
      "text/plain": [
       "Interchange with 7 collections, non-periodic topology with 125 atoms."
      ]
     },
     "execution_count": 5,
     "metadata": {},
     "output_type": "execute_result"
    }
   ],
   "source": [
    "from openff.interchange import Interchange\n",
    "\n",
    "interchange = Interchange.from_smirnoff(\n",
    "    force_field=forcefield,\n",
    "    topology=topology,\n",
    ")\n",
    "interchange"
   ]
  },
  {
   "cell_type": "code",
   "execution_count": 6,
   "id": "c3ffdf26",
   "metadata": {},
   "outputs": [
    {
     "name": "stderr",
     "output_type": "stream",
     "text": [
      "/Users/patrickfrankel/anaconda3/envs/openff/lib/python3.11/site-packages/openff/interchange/interop/gromacs/export/_export.py:46: UserWarning: WARNING: System defined with no box vectors, which GROMACS does not offically support in versions 2020 or newer (see https://gitlab.com/gromacs/gromacs/-/issues/3526). Setting box vectors to a 5  nm cube.\n",
      "  self._write_gro(gro, decimal)\n"
     ]
    }
   ],
   "source": [
    "# Export GROMACS files.\n",
    "interchange.to_top(\"POPE.top\")\n",
    "interchange.to_gro(\"POPE.gro\")"
   ]
  }
 ],
 "metadata": {
  "kernelspec": {
   "display_name": "Python 3 (ipykernel)",
   "language": "python",
   "name": "python3"
  },
  "language_info": {
   "codemirror_mode": {
    "name": "ipython",
    "version": 3
   },
   "file_extension": ".py",
   "mimetype": "text/x-python",
   "name": "python",
   "nbconvert_exporter": "python",
   "pygments_lexer": "ipython3",
   "version": "3.11.4"
  }
 },
 "nbformat": 4,
 "nbformat_minor": 5
}
