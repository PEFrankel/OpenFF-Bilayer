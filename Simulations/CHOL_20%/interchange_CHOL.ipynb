{
 "cells": [
  {
   "cell_type": "code",
   "execution_count": 1,
   "id": "25fe3bd7",
   "metadata": {},
   "outputs": [
    {
     "data": {
      "application/vnd.jupyter.widget-view+json": {
       "model_id": "7f5675c9a23f455f933d355e85a41005",
       "version_major": 2,
       "version_minor": 0
      },
      "text/plain": []
     },
     "metadata": {},
     "output_type": "display_data"
    }
   ],
   "source": [
    "# Imports from the Python standard library\n",
    "from io import StringIO\n",
    "from typing import Iterable\n",
    "\n",
    "# Imports from the comp chem ecosystem\n",
    "import mdtraj\n",
    "import nglview\n",
    "import numpy as np\n",
    "import openmm\n",
    "from openff.units import Quantity, unit\n",
    "from openmm import unit as openmm_unit\n",
    "#from pdbfixer import PDBFixer\n",
    "\n",
    "# New topology imports\n",
    "from openff.interchange import Interchange\n",
    "from openff.interchange.components._packmol import UNIT_CUBE, pack_box\n",
    "import rdkit\n",
    "\n",
    "# Imports from the toolkit\n",
    "from openff.toolkit import ForceField, Molecule, Topology"
   ]
  },
  {
   "cell_type": "code",
   "execution_count": 2,
   "id": "f0b0c57f",
   "metadata": {},
   "outputs": [
    {
     "data": {
      "image/svg+xml": [
       "<svg xmlns=\"http://www.w3.org/2000/svg\" xmlns:rdkit=\"http://www.rdkit.org/xml\" xmlns:xlink=\"http://www.w3.org/1999/xlink\" version=\"1.1\" baseProfile=\"full\" xml:space=\"preserve\" width=\"500px\" height=\"300px\" viewBox=\"0 0 500 300\">\n",
       "<!-- END OF HEADER -->\n",
       "<rect style=\"opacity:1.0;fill:#FFFFFF;stroke:none\" width=\"500.0\" height=\"300.0\" x=\"0.0\" y=\"0.0\"> </rect>\n",
       "<path class=\"bond-0 atom-0 atom-3\" d=\"M 75.1,208.9 L 49.8,208.3 L 50.4,203.5 Z\" style=\"fill:#000000;fill-rule:evenodd;fill-opacity:1;stroke:#000000;stroke-width:0.5px;stroke-linecap:butt;stroke-linejoin:miter;stroke-opacity:1;\"/>\n",
       "<path class=\"bond-1 atom-0 atom-1\" d=\"M 75.1,208.9 L 70.2,220.0\" style=\"fill:none;fill-rule:evenodd;stroke:#000000;stroke-width:2.0px;stroke-linecap:butt;stroke-linejoin:miter;stroke-opacity:1\"/>\n",
       "<path class=\"bond-1 atom-0 atom-1\" d=\"M 70.2,220.0 L 65.4,231.0\" style=\"fill:none;fill-rule:evenodd;stroke:#FF0000;stroke-width:2.0px;stroke-linecap:butt;stroke-linejoin:miter;stroke-opacity:1\"/>\n",
       "<path class=\"bond-2 atom-1 atom-2\" d=\"M 54.2,239.9 L 44.6,240.7\" style=\"fill:none;fill-rule:evenodd;stroke:#FF0000;stroke-width:2.0px;stroke-linecap:butt;stroke-linejoin:miter;stroke-opacity:1\"/>\n",
       "<path class=\"bond-2 atom-1 atom-2\" d=\"M 44.6,240.7 L 34.9,241.4\" style=\"fill:none;fill-rule:evenodd;stroke:#000000;stroke-width:2.0px;stroke-linecap:butt;stroke-linejoin:miter;stroke-opacity:1\"/>\n",
       "<path class=\"bond-3 atom-4 atom-0\" d=\"M 76.1,175.2 L 75.1,208.9\" style=\"fill:none;fill-rule:evenodd;stroke:#000000;stroke-width:2.0px;stroke-linecap:butt;stroke-linejoin:miter;stroke-opacity:1\"/>\n",
       "<path class=\"bond-4 atom-4 atom-6\" d=\"M 76.1,175.2 L 49.8,177.6\" style=\"fill:none;fill-rule:evenodd;stroke:#000000;stroke-width:2.0px;stroke-linecap:butt;stroke-linejoin:miter;stroke-opacity:1\"/>\n",
       "<path class=\"bond-5 atom-5 atom-4\" d=\"M 69.1,151.8 L 76.1,175.2\" style=\"fill:none;fill-rule:evenodd;stroke:#000000;stroke-width:2.0px;stroke-linecap:butt;stroke-linejoin:miter;stroke-opacity:1\"/>\n",
       "<path class=\"bond-6 atom-7 atom-8\" d=\"M 105.9,159.0 L 106.5,125.1\" style=\"fill:none;fill-rule:evenodd;stroke:#000000;stroke-width:2.0px;stroke-linecap:butt;stroke-linejoin:miter;stroke-opacity:1\"/>\n",
       "<path class=\"bond-6 atom-7 atom-8\" d=\"M 110.8,156.3 L 111.3,127.9\" style=\"fill:none;fill-rule:evenodd;stroke:#000000;stroke-width:2.0px;stroke-linecap:butt;stroke-linejoin:miter;stroke-opacity:1\"/>\n",
       "<path class=\"bond-7 atom-7 atom-4\" d=\"M 105.9,159.0 L 76.1,175.2\" style=\"fill:none;fill-rule:evenodd;stroke:#000000;stroke-width:2.0px;stroke-linecap:butt;stroke-linejoin:miter;stroke-opacity:1\"/>\n",
       "<path class=\"bond-8 atom-8 atom-9\" d=\"M 106.5,125.1 L 84.3,112.3\" style=\"fill:none;fill-rule:evenodd;stroke:#000000;stroke-width:2.0px;stroke-linecap:butt;stroke-linejoin:miter;stroke-opacity:1\"/>\n",
       "<path class=\"bond-9 atom-10 atom-12\" d=\"M 136.3,108.2 L 122.1,89.9\" style=\"fill:none;fill-rule:evenodd;stroke:#000000;stroke-width:2.0px;stroke-linecap:butt;stroke-linejoin:miter;stroke-opacity:1\"/>\n",
       "<path class=\"bond-10 atom-10 atom-8\" d=\"M 136.3,108.2 L 106.5,125.1\" style=\"fill:none;fill-rule:evenodd;stroke:#000000;stroke-width:2.0px;stroke-linecap:butt;stroke-linejoin:miter;stroke-opacity:1\"/>\n",
       "<path class=\"bond-11 atom-11 atom-10\" d=\"M 146.7,96.0 L 136.3,108.2\" style=\"fill:none;fill-rule:evenodd;stroke:#000000;stroke-width:2.0px;stroke-linecap:butt;stroke-linejoin:miter;stroke-opacity:1\"/>\n",
       "<path class=\"bond-12 atom-13 atom-14\" d=\"M 165.4,123.9 L 167.0,124.1\" style=\"fill:none;fill-rule:evenodd;stroke:#000000;stroke-width:1.0px;stroke-linecap:butt;stroke-linejoin:miter;stroke-opacity:1\"/>\n",
       "<path class=\"bond-12 atom-13 atom-14\" d=\"M 164.7,122.7 L 168.0,123.0\" style=\"fill:none;fill-rule:evenodd;stroke:#000000;stroke-width:1.0px;stroke-linecap:butt;stroke-linejoin:miter;stroke-opacity:1\"/>\n",
       "<path class=\"bond-12 atom-13 atom-14\" d=\"M 164.1,121.4 L 168.9,121.9\" style=\"fill:none;fill-rule:evenodd;stroke:#000000;stroke-width:1.0px;stroke-linecap:butt;stroke-linejoin:miter;stroke-opacity:1\"/>\n",
       "<path class=\"bond-13 atom-13 atom-36\" d=\"M 166.1,125.2 L 165.9,158.8\" style=\"fill:none;fill-rule:evenodd;stroke:#000000;stroke-width:2.0px;stroke-linecap:butt;stroke-linejoin:miter;stroke-opacity:1\"/>\n",
       "<path class=\"bond-14 atom-13 atom-10\" d=\"M 166.1,125.2 L 136.3,108.2\" style=\"fill:none;fill-rule:evenodd;stroke:#000000;stroke-width:2.0px;stroke-linecap:butt;stroke-linejoin:miter;stroke-opacity:1\"/>\n",
       "<path class=\"bond-15 atom-15 atom-16\" d=\"M 198.7,108.0 L 193.9,107.3 L 196.8,103.5 Z\" style=\"fill:#000000;fill-rule:evenodd;fill-opacity:1;stroke:#000000;stroke-width:0.5px;stroke-linecap:butt;stroke-linejoin:miter;stroke-opacity:1;\"/>\n",
       "<path class=\"bond-16 atom-15 atom-13\" d=\"M 198.7,108.0 L 166.1,125.2\" style=\"fill:none;fill-rule:evenodd;stroke:#000000;stroke-width:2.0px;stroke-linecap:butt;stroke-linejoin:miter;stroke-opacity:1\"/>\n",
       "<path class=\"bond-17 atom-17 atom-18\" d=\"M 208.3,75.7 L 187.0,72.2\" style=\"fill:none;fill-rule:evenodd;stroke:#000000;stroke-width:2.0px;stroke-linecap:butt;stroke-linejoin:miter;stroke-opacity:1\"/>\n",
       "<path class=\"bond-18 atom-17 atom-15\" d=\"M 208.3,75.7 L 198.7,108.0\" style=\"fill:none;fill-rule:evenodd;stroke:#000000;stroke-width:2.0px;stroke-linecap:butt;stroke-linejoin:miter;stroke-opacity:1\"/>\n",
       "<path class=\"bond-19 atom-17 atom-19\" d=\"M 208.3,75.7 L 210.3,51.2\" style=\"fill:none;fill-rule:evenodd;stroke:#000000;stroke-width:2.0px;stroke-linecap:butt;stroke-linejoin:miter;stroke-opacity:1\"/>\n",
       "<path class=\"bond-20 atom-20 atom-22\" d=\"M 242.3,74.8 L 239.1,50.9\" style=\"fill:none;fill-rule:evenodd;stroke:#000000;stroke-width:2.0px;stroke-linecap:butt;stroke-linejoin:miter;stroke-opacity:1\"/>\n",
       "<path class=\"bond-21 atom-20 atom-17\" d=\"M 242.3,74.8 L 208.3,75.7\" style=\"fill:none;fill-rule:evenodd;stroke:#000000;stroke-width:2.0px;stroke-linecap:butt;stroke-linejoin:miter;stroke-opacity:1\"/>\n",
       "<path class=\"bond-22 atom-21 atom-20\" d=\"M 268.2,67.2 L 242.3,74.8\" style=\"fill:none;fill-rule:evenodd;stroke:#000000;stroke-width:2.0px;stroke-linecap:butt;stroke-linejoin:miter;stroke-opacity:1\"/>\n",
       "<path class=\"bond-23 atom-23 atom-24\" d=\"M 253.5,106.5 L 257.4,110.8 L 252.8,112.3 Z\" style=\"fill:#000000;fill-rule:evenodd;fill-opacity:1;stroke:#000000;stroke-width:0.5px;stroke-linecap:butt;stroke-linejoin:miter;stroke-opacity:1;\"/>\n",
       "<path class=\"bond-24 atom-23 atom-20\" d=\"M 253.5,106.5 L 242.3,74.8\" style=\"fill:none;fill-rule:evenodd;stroke:#000000;stroke-width:2.0px;stroke-linecap:butt;stroke-linejoin:miter;stroke-opacity:1\"/>\n",
       "<path class=\"bond-25 atom-23 atom-25\" d=\"M 253.5,106.5 L 227.2,126.8\" style=\"fill:none;fill-rule:evenodd;stroke:#000000;stroke-width:2.0px;stroke-linecap:butt;stroke-linejoin:miter;stroke-opacity:1\"/>\n",
       "<path class=\"bond-26 atom-25 atom-26\" d=\"M 229.8,129.0 L 230.1,128.7\" style=\"fill:none;fill-rule:evenodd;stroke:#000000;stroke-width:1.0px;stroke-linecap:butt;stroke-linejoin:miter;stroke-opacity:1\"/>\n",
       "<path class=\"bond-26 atom-25 atom-26\" d=\"M 232.5,131.2 L 232.9,130.6\" style=\"fill:none;fill-rule:evenodd;stroke:#000000;stroke-width:1.0px;stroke-linecap:butt;stroke-linejoin:miter;stroke-opacity:1\"/>\n",
       "<path class=\"bond-26 atom-25 atom-26\" d=\"M 235.1,133.5 L 235.8,132.6\" style=\"fill:none;fill-rule:evenodd;stroke:#000000;stroke-width:1.0px;stroke-linecap:butt;stroke-linejoin:miter;stroke-opacity:1\"/>\n",
       "<path class=\"bond-26 atom-25 atom-26\" d=\"M 237.8,135.7 L 238.7,134.5\" style=\"fill:none;fill-rule:evenodd;stroke:#000000;stroke-width:1.0px;stroke-linecap:butt;stroke-linejoin:miter;stroke-opacity:1\"/>\n",
       "<path class=\"bond-26 atom-25 atom-26\" d=\"M 240.4,137.9 L 241.6,136.5\" style=\"fill:none;fill-rule:evenodd;stroke:#000000;stroke-width:1.0px;stroke-linecap:butt;stroke-linejoin:miter;stroke-opacity:1\"/>\n",
       "<path class=\"bond-26 atom-25 atom-26\" d=\"M 243.1,140.2 L 244.4,138.4\" style=\"fill:none;fill-rule:evenodd;stroke:#000000;stroke-width:1.0px;stroke-linecap:butt;stroke-linejoin:miter;stroke-opacity:1\"/>\n",
       "<path class=\"bond-26 atom-25 atom-26\" d=\"M 245.7,142.4 L 247.3,140.3\" style=\"fill:none;fill-rule:evenodd;stroke:#000000;stroke-width:1.0px;stroke-linecap:butt;stroke-linejoin:miter;stroke-opacity:1\"/>\n",
       "<path class=\"bond-26 atom-25 atom-26\" d=\"M 248.4,144.7 L 250.2,142.3\" style=\"fill:none;fill-rule:evenodd;stroke:#000000;stroke-width:1.0px;stroke-linecap:butt;stroke-linejoin:miter;stroke-opacity:1\"/>\n",
       "<path class=\"bond-26 atom-25 atom-26\" d=\"M 251.0,146.9 L 253.0,144.2\" style=\"fill:none;fill-rule:evenodd;stroke:#000000;stroke-width:1.0px;stroke-linecap:butt;stroke-linejoin:miter;stroke-opacity:1\"/>\n",
       "<path class=\"bond-26 atom-25 atom-26\" d=\"M 253.7,149.1 L 255.9,146.2\" style=\"fill:none;fill-rule:evenodd;stroke:#000000;stroke-width:1.0px;stroke-linecap:butt;stroke-linejoin:miter;stroke-opacity:1\"/>\n",
       "<path class=\"bond-26 atom-25 atom-26\" d=\"M 256.3,151.4 L 258.8,148.1\" style=\"fill:none;fill-rule:evenodd;stroke:#000000;stroke-width:1.0px;stroke-linecap:butt;stroke-linejoin:miter;stroke-opacity:1\"/>\n",
       "<path class=\"bond-26 atom-25 atom-26\" d=\"M 259.0,153.6 L 261.7,150.0\" style=\"fill:none;fill-rule:evenodd;stroke:#000000;stroke-width:1.0px;stroke-linecap:butt;stroke-linejoin:miter;stroke-opacity:1\"/>\n",
       "<path class=\"bond-26 atom-25 atom-26\" d=\"M 261.6,155.8 L 264.5,152.0\" style=\"fill:none;fill-rule:evenodd;stroke:#000000;stroke-width:1.0px;stroke-linecap:butt;stroke-linejoin:miter;stroke-opacity:1\"/>\n",
       "<path class=\"bond-27 atom-25 atom-30\" d=\"M 227.2,126.8 L 225.9,159.9\" style=\"fill:none;fill-rule:evenodd;stroke:#000000;stroke-width:2.0px;stroke-linecap:butt;stroke-linejoin:miter;stroke-opacity:1\"/>\n",
       "<path class=\"bond-28 atom-25 atom-15\" d=\"M 227.2,126.8 L 198.7,108.0\" style=\"fill:none;fill-rule:evenodd;stroke:#000000;stroke-width:2.0px;stroke-linecap:butt;stroke-linejoin:miter;stroke-opacity:1\"/>\n",
       "<path class=\"bond-29 atom-26 atom-27\" d=\"M 265.8,156.0 L 276.0,141.6\" style=\"fill:none;fill-rule:evenodd;stroke:#000000;stroke-width:2.0px;stroke-linecap:butt;stroke-linejoin:miter;stroke-opacity:1\"/>\n",
       "<path class=\"bond-30 atom-28 atom-26\" d=\"M 285.7,155.9 L 265.8,156.0\" style=\"fill:none;fill-rule:evenodd;stroke:#000000;stroke-width:2.0px;stroke-linecap:butt;stroke-linejoin:miter;stroke-opacity:1\"/>\n",
       "<path class=\"bond-31 atom-29 atom-26\" d=\"M 268.8,179.0 L 265.8,156.0\" style=\"fill:none;fill-rule:evenodd;stroke:#000000;stroke-width:2.0px;stroke-linecap:butt;stroke-linejoin:miter;stroke-opacity:1\"/>\n",
       "<path class=\"bond-32 atom-30 atom-32\" d=\"M 225.9,159.9 L 233.7,163.3\" style=\"fill:none;fill-rule:evenodd;stroke:#000000;stroke-width:2.0px;stroke-linecap:butt;stroke-linejoin:miter;stroke-opacity:1\"/>\n",
       "<path class=\"bond-33 atom-30 atom-33\" d=\"M 225.9,159.9 L 197.0,176.0\" style=\"fill:none;fill-rule:evenodd;stroke:#000000;stroke-width:2.0px;stroke-linecap:butt;stroke-linejoin:miter;stroke-opacity:1\"/>\n",
       "<path class=\"bond-34 atom-31 atom-30\" d=\"M 239.2,184.4 L 225.9,159.9\" style=\"fill:none;fill-rule:evenodd;stroke:#000000;stroke-width:2.0px;stroke-linecap:butt;stroke-linejoin:miter;stroke-opacity:1\"/>\n",
       "<path class=\"bond-35 atom-33 atom-35\" d=\"M 197.0,176.0 L 219.7,204.8\" style=\"fill:none;fill-rule:evenodd;stroke:#000000;stroke-width:2.0px;stroke-linecap:butt;stroke-linejoin:miter;stroke-opacity:1\"/>\n",
       "<path class=\"bond-36 atom-33 atom-36\" d=\"M 197.0,176.0 L 165.9,158.8\" style=\"fill:none;fill-rule:evenodd;stroke:#000000;stroke-width:2.0px;stroke-linecap:butt;stroke-linejoin:miter;stroke-opacity:1\"/>\n",
       "<path class=\"bond-37 atom-34 atom-33\" d=\"M 197.6,180.5 L 197.0,176.0\" style=\"fill:none;fill-rule:evenodd;stroke:#000000;stroke-width:2.0px;stroke-linecap:butt;stroke-linejoin:miter;stroke-opacity:1\"/>\n",
       "<path class=\"bond-38 atom-36 atom-37\" d=\"M 165.9,158.8 L 166.7,162.2 L 162.6,159.6 Z\" style=\"fill:#000000;fill-rule:evenodd;fill-opacity:1;stroke:#000000;stroke-width:0.5px;stroke-linecap:butt;stroke-linejoin:miter;stroke-opacity:1;\"/>\n",
       "<path class=\"bond-39 atom-36 atom-38\" d=\"M 165.9,158.8 L 134.7,176.5\" style=\"fill:none;fill-rule:evenodd;stroke:#000000;stroke-width:2.0px;stroke-linecap:butt;stroke-linejoin:miter;stroke-opacity:1\"/>\n",
       "<path class=\"bond-40 atom-38 atom-39\" d=\"M 136.8,179.3 L 137.1,179.0\" style=\"fill:none;fill-rule:evenodd;stroke:#000000;stroke-width:1.0px;stroke-linecap:butt;stroke-linejoin:miter;stroke-opacity:1\"/>\n",
       "<path class=\"bond-40 atom-38 atom-39\" d=\"M 138.9,182.0 L 139.5,181.6\" style=\"fill:none;fill-rule:evenodd;stroke:#000000;stroke-width:1.0px;stroke-linecap:butt;stroke-linejoin:miter;stroke-opacity:1\"/>\n",
       "<path class=\"bond-40 atom-38 atom-39\" d=\"M 141.0,184.8 L 141.9,184.1\" style=\"fill:none;fill-rule:evenodd;stroke:#000000;stroke-width:1.0px;stroke-linecap:butt;stroke-linejoin:miter;stroke-opacity:1\"/>\n",
       "<path class=\"bond-40 atom-38 atom-39\" d=\"M 143.1,187.6 L 144.3,186.6\" style=\"fill:none;fill-rule:evenodd;stroke:#000000;stroke-width:1.0px;stroke-linecap:butt;stroke-linejoin:miter;stroke-opacity:1\"/>\n",
       "<path class=\"bond-40 atom-38 atom-39\" d=\"M 145.2,190.3 L 146.7,189.1\" style=\"fill:none;fill-rule:evenodd;stroke:#000000;stroke-width:1.0px;stroke-linecap:butt;stroke-linejoin:miter;stroke-opacity:1\"/>\n",
       "<path class=\"bond-40 atom-38 atom-39\" d=\"M 147.4,193.1 L 149.1,191.6\" style=\"fill:none;fill-rule:evenodd;stroke:#000000;stroke-width:1.0px;stroke-linecap:butt;stroke-linejoin:miter;stroke-opacity:1\"/>\n",
       "<path class=\"bond-40 atom-38 atom-39\" d=\"M 149.5,195.8 L 151.4,194.2\" style=\"fill:none;fill-rule:evenodd;stroke:#000000;stroke-width:1.0px;stroke-linecap:butt;stroke-linejoin:miter;stroke-opacity:1\"/>\n",
       "<path class=\"bond-40 atom-38 atom-39\" d=\"M 151.6,198.6 L 153.8,196.7\" style=\"fill:none;fill-rule:evenodd;stroke:#000000;stroke-width:1.0px;stroke-linecap:butt;stroke-linejoin:miter;stroke-opacity:1\"/>\n",
       "<path class=\"bond-40 atom-38 atom-39\" d=\"M 153.7,201.4 L 156.2,199.2\" style=\"fill:none;fill-rule:evenodd;stroke:#000000;stroke-width:1.0px;stroke-linecap:butt;stroke-linejoin:miter;stroke-opacity:1\"/>\n",
       "<path class=\"bond-40 atom-38 atom-39\" d=\"M 155.8,204.1 L 158.6,201.7\" style=\"fill:none;fill-rule:evenodd;stroke:#000000;stroke-width:1.0px;stroke-linecap:butt;stroke-linejoin:miter;stroke-opacity:1\"/>\n",
       "<path class=\"bond-40 atom-38 atom-39\" d=\"M 157.9,206.9 L 161.0,204.2\" style=\"fill:none;fill-rule:evenodd;stroke:#000000;stroke-width:1.0px;stroke-linecap:butt;stroke-linejoin:miter;stroke-opacity:1\"/>\n",
       "<path class=\"bond-40 atom-38 atom-39\" d=\"M 160.0,209.6 L 163.4,206.7\" style=\"fill:none;fill-rule:evenodd;stroke:#000000;stroke-width:1.0px;stroke-linecap:butt;stroke-linejoin:miter;stroke-opacity:1\"/>\n",
       "<path class=\"bond-40 atom-38 atom-39\" d=\"M 162.1,212.4 L 165.8,209.3\" style=\"fill:none;fill-rule:evenodd;stroke:#000000;stroke-width:1.0px;stroke-linecap:butt;stroke-linejoin:miter;stroke-opacity:1\"/>\n",
       "<path class=\"bond-41 atom-38 atom-43\" d=\"M 134.7,176.5 L 133.3,210.5\" style=\"fill:none;fill-rule:evenodd;stroke:#000000;stroke-width:2.0px;stroke-linecap:butt;stroke-linejoin:miter;stroke-opacity:1\"/>\n",
       "<path class=\"bond-42 atom-38 atom-7\" d=\"M 134.7,176.5 L 105.9,159.0\" style=\"fill:none;fill-rule:evenodd;stroke:#000000;stroke-width:2.0px;stroke-linecap:butt;stroke-linejoin:miter;stroke-opacity:1\"/>\n",
       "<path class=\"bond-43 atom-39 atom-42\" d=\"M 166.2,213.5 L 170.1,201.1\" style=\"fill:none;fill-rule:evenodd;stroke:#000000;stroke-width:2.0px;stroke-linecap:butt;stroke-linejoin:miter;stroke-opacity:1\"/>\n",
       "<path class=\"bond-44 atom-40 atom-39\" d=\"M 187.2,214.0 L 166.2,213.5\" style=\"fill:none;fill-rule:evenodd;stroke:#000000;stroke-width:2.0px;stroke-linecap:butt;stroke-linejoin:miter;stroke-opacity:1\"/>\n",
       "<path class=\"bond-45 atom-41 atom-39\" d=\"M 171.7,230.2 L 166.2,213.5\" style=\"fill:none;fill-rule:evenodd;stroke:#000000;stroke-width:2.0px;stroke-linecap:butt;stroke-linejoin:miter;stroke-opacity:1\"/>\n",
       "<path class=\"bond-46 atom-43 atom-45\" d=\"M 133.3,210.5 L 136.8,216.1\" style=\"fill:none;fill-rule:evenodd;stroke:#000000;stroke-width:2.0px;stroke-linecap:butt;stroke-linejoin:miter;stroke-opacity:1\"/>\n",
       "<path class=\"bond-47 atom-43 atom-46\" d=\"M 133.3,210.5 L 103.6,226.4\" style=\"fill:none;fill-rule:evenodd;stroke:#000000;stroke-width:2.0px;stroke-linecap:butt;stroke-linejoin:miter;stroke-opacity:1\"/>\n",
       "<path class=\"bond-48 atom-44 atom-43\" d=\"M 139.5,234.3 L 133.3,210.5\" style=\"fill:none;fill-rule:evenodd;stroke:#000000;stroke-width:2.0px;stroke-linecap:butt;stroke-linejoin:miter;stroke-opacity:1\"/>\n",
       "<path class=\"bond-49 atom-46 atom-47\" d=\"M 103.6,226.4 L 115.2,249.1\" style=\"fill:none;fill-rule:evenodd;stroke:#000000;stroke-width:2.0px;stroke-linecap:butt;stroke-linejoin:miter;stroke-opacity:1\"/>\n",
       "<path class=\"bond-50 atom-46 atom-0\" d=\"M 103.6,226.4 L 75.1,208.9\" style=\"fill:none;fill-rule:evenodd;stroke:#000000;stroke-width:2.0px;stroke-linecap:butt;stroke-linejoin:miter;stroke-opacity:1\"/>\n",
       "<path class=\"bond-51 atom-48 atom-46\" d=\"M 88.6,247.9 L 103.6,226.4\" style=\"fill:none;fill-rule:evenodd;stroke:#000000;stroke-width:2.0px;stroke-linecap:butt;stroke-linejoin:miter;stroke-opacity:1\"/>\n",
       "<path class=\"bond-52 atom-49 atom-50\" d=\"M 295.4,107.8 L 286.7,101.6 L 290.3,98.4 Z\" style=\"fill:#000000;fill-rule:evenodd;fill-opacity:1;stroke:#000000;stroke-width:0.5px;stroke-linecap:butt;stroke-linejoin:miter;stroke-opacity:1;\"/>\n",
       "<path class=\"bond-53 atom-49 atom-23\" d=\"M 295.4,107.8 L 253.5,106.5\" style=\"fill:none;fill-rule:evenodd;stroke:#000000;stroke-width:2.0px;stroke-linecap:butt;stroke-linejoin:miter;stroke-opacity:1\"/>\n",
       "<path class=\"bond-54 atom-51 atom-54\" d=\"M 321.4,85.7 L 305.4,63.1\" style=\"fill:none;fill-rule:evenodd;stroke:#000000;stroke-width:2.0px;stroke-linecap:butt;stroke-linejoin:miter;stroke-opacity:1\"/>\n",
       "<path class=\"bond-55 atom-51 atom-53\" d=\"M 321.4,85.7 L 330.8,63.1\" style=\"fill:none;fill-rule:evenodd;stroke:#000000;stroke-width:2.0px;stroke-linecap:butt;stroke-linejoin:miter;stroke-opacity:1\"/>\n",
       "<path class=\"bond-56 atom-51 atom-49\" d=\"M 321.4,85.7 L 295.4,107.8\" style=\"fill:none;fill-rule:evenodd;stroke:#000000;stroke-width:2.0px;stroke-linecap:butt;stroke-linejoin:miter;stroke-opacity:1\"/>\n",
       "<path class=\"bond-57 atom-52 atom-51\" d=\"M 344.0,95.2 L 321.4,85.7\" style=\"fill:none;fill-rule:evenodd;stroke:#000000;stroke-width:2.0px;stroke-linecap:butt;stroke-linejoin:miter;stroke-opacity:1\"/>\n",
       "<path class=\"bond-58 atom-55 atom-56\" d=\"M 323.5,167.0 L 303.2,180.8\" style=\"fill:none;fill-rule:evenodd;stroke:#000000;stroke-width:2.0px;stroke-linecap:butt;stroke-linejoin:miter;stroke-opacity:1\"/>\n",
       "<path class=\"bond-59 atom-55 atom-49\" d=\"M 323.5,167.0 L 295.4,107.8\" style=\"fill:none;fill-rule:evenodd;stroke:#000000;stroke-width:2.0px;stroke-linecap:butt;stroke-linejoin:miter;stroke-opacity:1\"/>\n",
       "<path class=\"bond-60 atom-57 atom-55\" d=\"M 322.1,194.1 L 323.5,167.0\" style=\"fill:none;fill-rule:evenodd;stroke:#000000;stroke-width:2.0px;stroke-linecap:butt;stroke-linejoin:miter;stroke-opacity:1\"/>\n",
       "<path class=\"bond-61 atom-58 atom-60\" d=\"M 356.1,173.8 L 351.7,199.7\" style=\"fill:none;fill-rule:evenodd;stroke:#000000;stroke-width:2.0px;stroke-linecap:butt;stroke-linejoin:miter;stroke-opacity:1\"/>\n",
       "<path class=\"bond-62 atom-58 atom-55\" d=\"M 356.1,173.8 L 323.5,167.0\" style=\"fill:none;fill-rule:evenodd;stroke:#000000;stroke-width:2.0px;stroke-linecap:butt;stroke-linejoin:miter;stroke-opacity:1\"/>\n",
       "<path class=\"bond-63 atom-59 atom-58\" d=\"M 375.4,189.8 L 356.1,173.8\" style=\"fill:none;fill-rule:evenodd;stroke:#000000;stroke-width:2.0px;stroke-linecap:butt;stroke-linejoin:miter;stroke-opacity:1\"/>\n",
       "<path class=\"bond-64 atom-61 atom-62\" d=\"M 373.8,150.5 L 351.4,137.2\" style=\"fill:none;fill-rule:evenodd;stroke:#000000;stroke-width:2.0px;stroke-linecap:butt;stroke-linejoin:miter;stroke-opacity:1\"/>\n",
       "<path class=\"bond-65 atom-61 atom-58\" d=\"M 373.8,150.5 L 356.1,173.8\" style=\"fill:none;fill-rule:evenodd;stroke:#000000;stroke-width:2.0px;stroke-linecap:butt;stroke-linejoin:miter;stroke-opacity:1\"/>\n",
       "<path class=\"bond-66 atom-63 atom-61\" d=\"M 372.7,128.2 L 373.8,150.5\" style=\"fill:none;fill-rule:evenodd;stroke:#000000;stroke-width:2.0px;stroke-linecap:butt;stroke-linejoin:miter;stroke-opacity:1\"/>\n",
       "<path class=\"bond-67 atom-64 atom-61\" d=\"M 409.8,152.4 L 373.8,150.5\" style=\"fill:none;fill-rule:evenodd;stroke:#000000;stroke-width:2.0px;stroke-linecap:butt;stroke-linejoin:miter;stroke-opacity:1\"/>\n",
       "<path class=\"bond-68 atom-65 atom-64\" d=\"M 407.8,177.6 L 409.8,152.4\" style=\"fill:none;fill-rule:evenodd;stroke:#000000;stroke-width:2.0px;stroke-linecap:butt;stroke-linejoin:miter;stroke-opacity:1\"/>\n",
       "<path class=\"bond-69 atom-66 atom-64\" d=\"M 445.2,157.4 L 409.8,152.4\" style=\"fill:none;fill-rule:evenodd;stroke:#000000;stroke-width:2.0px;stroke-linecap:butt;stroke-linejoin:miter;stroke-opacity:1\"/>\n",
       "<path class=\"bond-70 atom-66 atom-68\" d=\"M 445.2,157.4 L 441.9,182.6\" style=\"fill:none;fill-rule:evenodd;stroke:#000000;stroke-width:2.0px;stroke-linecap:butt;stroke-linejoin:miter;stroke-opacity:1\"/>\n",
       "<path class=\"bond-71 atom-67 atom-66\" d=\"M 465.1,172.9 L 445.2,157.4\" style=\"fill:none;fill-rule:evenodd;stroke:#000000;stroke-width:2.0px;stroke-linecap:butt;stroke-linejoin:miter;stroke-opacity:1\"/>\n",
       "<path class=\"bond-72 atom-69 atom-66\" d=\"M 459.4,140.1 L 445.2,157.4\" style=\"fill:none;fill-rule:evenodd;stroke:#000000;stroke-width:2.0px;stroke-linecap:butt;stroke-linejoin:miter;stroke-opacity:1\"/>\n",
       "<path class=\"bond-73 atom-70 atom-71\" d=\"M 412.5,116.1 L 437.0,116.8\" style=\"fill:none;fill-rule:evenodd;stroke:#000000;stroke-width:2.0px;stroke-linecap:butt;stroke-linejoin:miter;stroke-opacity:1\"/>\n",
       "<path class=\"bond-74 atom-70 atom-72\" d=\"M 412.5,116.1 L 425.5,96.6\" style=\"fill:none;fill-rule:evenodd;stroke:#000000;stroke-width:2.0px;stroke-linecap:butt;stroke-linejoin:miter;stroke-opacity:1\"/>\n",
       "<path class=\"bond-75 atom-70 atom-64\" d=\"M 412.5,116.1 L 409.8,152.4\" style=\"fill:none;fill-rule:evenodd;stroke:#000000;stroke-width:2.0px;stroke-linecap:butt;stroke-linejoin:miter;stroke-opacity:1\"/>\n",
       "<path class=\"bond-76 atom-73 atom-70\" d=\"M 392.7,101.8 L 412.5,116.1\" style=\"fill:none;fill-rule:evenodd;stroke:#000000;stroke-width:2.0px;stroke-linecap:butt;stroke-linejoin:miter;stroke-opacity:1\"/>\n",
       "<path class=\"atom-1\" d=\"M 55.3 239.3 Q 55.3 235.9, 57.0 234.0 Q 58.7 232.1, 61.8 232.1 Q 65.0 232.1, 66.7 234.0 Q 68.4 235.9, 68.4 239.3 Q 68.4 242.8, 66.6 244.8 Q 64.9 246.7, 61.8 246.7 Q 58.7 246.7, 57.0 244.8 Q 55.3 242.8, 55.3 239.3 M 61.8 245.1 Q 64.0 245.1, 65.2 243.7 Q 66.3 242.2, 66.3 239.3 Q 66.3 236.6, 65.2 235.1 Q 64.0 233.7, 61.8 233.7 Q 59.6 233.7, 58.5 235.1 Q 57.3 236.5, 57.3 239.3 Q 57.3 242.2, 58.5 243.7 Q 59.6 245.1, 61.8 245.1 \" fill=\"#FF0000\"/>\n",
       "<path class=\"atom-2\" d=\"M 22.7 234.8 L 24.7 234.8 L 24.7 240.9 L 31.9 240.9 L 31.9 234.8 L 33.9 234.8 L 33.9 249.1 L 31.9 249.1 L 31.9 242.5 L 24.7 242.5 L 24.7 249.1 L 22.7 249.1 L 22.7 234.8 \" fill=\"#000000\"/>\n",
       "<path class=\"atom-3\" d=\"M 36.9 197.9 L 38.8 197.9 L 38.8 204.0 L 46.1 204.0 L 46.1 197.9 L 48.0 197.9 L 48.0 212.2 L 46.1 212.2 L 46.1 205.6 L 38.8 205.6 L 38.8 212.2 L 36.9 212.2 L 36.9 197.9 \" fill=\"#000000\"/>\n",
       "<path class=\"atom-5\" d=\"M 61.0 136.5 L 63.0 136.5 L 63.0 142.6 L 70.2 142.6 L 70.2 136.5 L 72.2 136.5 L 72.2 150.8 L 70.2 150.8 L 70.2 144.2 L 63.0 144.2 L 63.0 150.8 L 61.0 150.8 L 61.0 136.5 \" fill=\"#000000\"/>\n",
       "<path class=\"atom-6\" d=\"M 37.6 171.0 L 39.5 171.0 L 39.5 177.1 L 46.8 177.1 L 46.8 171.0 L 48.7 171.0 L 48.7 185.3 L 46.8 185.3 L 46.8 178.7 L 39.5 178.7 L 39.5 185.3 L 37.6 185.3 L 37.6 171.0 \" fill=\"#000000\"/>\n",
       "<path class=\"atom-9\" d=\"M 72.1 101.3 L 74.0 101.3 L 74.0 107.4 L 81.3 107.4 L 81.3 101.3 L 83.2 101.3 L 83.2 115.6 L 81.3 115.6 L 81.3 109.0 L 74.0 109.0 L 74.0 115.6 L 72.1 115.6 L 72.1 101.3 \" fill=\"#000000\"/>\n",
       "<path class=\"atom-11\" d=\"M 147.8 81.2 L 149.7 81.2 L 149.7 87.3 L 157.0 87.3 L 157.0 81.2 L 158.9 81.2 L 158.9 95.5 L 157.0 95.5 L 157.0 88.9 L 149.7 88.9 L 149.7 95.5 L 147.8 95.5 L 147.8 81.2 \" fill=\"#000000\"/>\n",
       "<path class=\"atom-12\" d=\"M 110.2 74.6 L 112.1 74.6 L 112.1 80.6 L 119.4 80.6 L 119.4 74.6 L 121.3 74.6 L 121.3 88.8 L 119.4 88.8 L 119.4 82.3 L 112.1 82.3 L 112.1 88.8 L 110.2 88.8 L 110.2 74.6 \" fill=\"#000000\"/>\n",
       "<path class=\"atom-14\" d=\"M 161.9 105.3 L 163.8 105.3 L 163.8 111.4 L 171.1 111.4 L 171.1 105.3 L 173.0 105.3 L 173.0 119.6 L 171.1 119.6 L 171.1 113.0 L 163.8 113.0 L 163.8 119.6 L 161.9 119.6 L 161.9 105.3 \" fill=\"#000000\"/>\n",
       "<path class=\"atom-16\" d=\"M 182.1 92.3 L 184.0 92.3 L 184.0 98.3 L 191.3 98.3 L 191.3 92.3 L 193.2 92.3 L 193.2 106.5 L 191.3 106.5 L 191.3 100.0 L 184.0 100.0 L 184.0 106.5 L 182.1 106.5 L 182.1 92.3 \" fill=\"#000000\"/>\n",
       "<path class=\"atom-18\" d=\"M 174.8 64.1 L 176.7 64.1 L 176.7 70.1 L 184.0 70.1 L 184.0 64.1 L 185.9 64.1 L 185.9 78.3 L 184.0 78.3 L 184.0 71.7 L 176.7 71.7 L 176.7 78.3 L 174.8 78.3 L 174.8 64.1 \" fill=\"#000000\"/>\n",
       "<path class=\"atom-19\" d=\"M 205.4 35.9 L 207.3 35.9 L 207.3 42.0 L 214.6 42.0 L 214.6 35.9 L 216.5 35.9 L 216.5 50.1 L 214.6 50.1 L 214.6 43.6 L 207.3 43.6 L 207.3 50.1 L 205.4 50.1 L 205.4 35.9 \" fill=\"#000000\"/>\n",
       "<path class=\"atom-21\" d=\"M 269.2 58.1 L 271.2 58.1 L 271.2 64.2 L 278.5 64.2 L 278.5 58.1 L 280.4 58.1 L 280.4 72.4 L 278.5 72.4 L 278.5 65.8 L 271.2 65.8 L 271.2 72.4 L 269.2 72.4 L 269.2 58.1 \" fill=\"#000000\"/>\n",
       "<path class=\"atom-22\" d=\"M 232.5 35.5 L 234.4 35.5 L 234.4 41.6 L 241.7 41.6 L 241.7 35.5 L 243.6 35.5 L 243.6 49.8 L 241.7 49.8 L 241.7 43.2 L 234.4 43.2 L 234.4 49.8 L 232.5 49.8 L 232.5 35.5 \" fill=\"#000000\"/>\n",
       "<path class=\"atom-24\" d=\"M 252.3 113.7 L 254.3 113.7 L 254.3 119.7 L 261.6 119.7 L 261.6 113.7 L 263.5 113.7 L 263.5 127.9 L 261.6 127.9 L 261.6 121.3 L 254.3 121.3 L 254.3 127.9 L 252.3 127.9 L 252.3 113.7 \" fill=\"#000000\"/>\n",
       "<path class=\"atom-27\" d=\"M 276.1 126.2 L 278.0 126.2 L 278.0 132.3 L 285.3 132.3 L 285.3 126.2 L 287.3 126.2 L 287.3 140.5 L 285.3 140.5 L 285.3 133.9 L 278.0 133.9 L 278.0 140.5 L 276.1 140.5 L 276.1 126.2 \" fill=\"#000000\"/>\n",
       "<path class=\"atom-28\" d=\"M 286.8 148.7 L 288.7 148.7 L 288.7 154.7 L 296.0 154.7 L 296.0 148.7 L 297.9 148.7 L 297.9 162.9 L 296.0 162.9 L 296.0 156.4 L 288.7 156.4 L 288.7 162.9 L 286.8 162.9 L 286.8 148.7 \" fill=\"#000000\"/>\n",
       "<path class=\"atom-29\" d=\"M 264.3 180.0 L 266.3 180.0 L 266.3 186.1 L 273.5 186.1 L 273.5 180.0 L 275.5 180.0 L 275.5 194.3 L 273.5 194.3 L 273.5 187.7 L 266.3 187.7 L 266.3 194.3 L 264.3 194.3 L 264.3 180.0 \" fill=\"#000000\"/>\n",
       "<path class=\"atom-31\" d=\"M 238.1 185.4 L 240.0 185.4 L 240.0 191.5 L 247.3 191.5 L 247.3 185.4 L 249.2 185.4 L 249.2 199.7 L 247.3 199.7 L 247.3 193.1 L 240.0 193.1 L 240.0 199.7 L 238.1 199.7 L 238.1 185.4 \" fill=\"#000000\"/>\n",
       "<path class=\"atom-32\" d=\"M 234.8 159.1 L 236.7 159.1 L 236.7 165.2 L 244.0 165.2 L 244.0 159.1 L 246.0 159.1 L 246.0 173.4 L 244.0 173.4 L 244.0 166.8 L 236.7 166.8 L 236.7 173.4 L 234.8 173.4 L 234.8 159.1 \" fill=\"#000000\"/>\n",
       "<path class=\"atom-34\" d=\"M 193.2 181.6 L 195.1 181.6 L 195.1 187.6 L 202.4 187.6 L 202.4 181.6 L 204.3 181.6 L 204.3 195.8 L 202.4 195.8 L 202.4 189.3 L 195.1 189.3 L 195.1 195.8 L 193.2 195.8 L 193.2 181.6 \" fill=\"#000000\"/>\n",
       "<path class=\"atom-35\" d=\"M 220.6 205.9 L 222.5 205.9 L 222.5 211.9 L 229.8 211.9 L 229.8 205.9 L 231.7 205.9 L 231.7 220.1 L 229.8 220.1 L 229.8 213.5 L 222.5 213.5 L 222.5 220.1 L 220.6 220.1 L 220.6 205.9 \" fill=\"#000000\"/>\n",
       "<path class=\"atom-37\" d=\"M 153.2 163.0 L 155.2 163.0 L 155.2 169.1 L 162.4 169.1 L 162.4 163.0 L 164.4 163.0 L 164.4 177.3 L 162.4 177.3 L 162.4 170.7 L 155.2 170.7 L 155.2 177.3 L 153.2 177.3 L 153.2 163.0 \" fill=\"#000000\"/>\n",
       "<path class=\"atom-40\" d=\"M 188.3 207.1 L 190.2 207.1 L 190.2 213.1 L 197.5 213.1 L 197.5 207.1 L 199.4 207.1 L 199.4 221.3 L 197.5 221.3 L 197.5 214.8 L 190.2 214.8 L 190.2 221.3 L 188.3 221.3 L 188.3 207.1 \" fill=\"#000000\"/>\n",
       "<path class=\"atom-41\" d=\"M 168.8 231.2 L 170.7 231.2 L 170.7 237.3 L 178.0 237.3 L 178.0 231.2 L 179.9 231.2 L 179.9 245.5 L 178.0 245.5 L 178.0 238.9 L 170.7 238.9 L 170.7 245.5 L 168.8 245.5 L 168.8 231.2 \" fill=\"#000000\"/>\n",
       "<path class=\"atom-42\" d=\"M 167.1 185.8 L 169.0 185.8 L 169.0 191.9 L 176.3 191.9 L 176.3 185.8 L 178.2 185.8 L 178.2 200.0 L 176.3 200.0 L 176.3 193.5 L 169.0 193.5 L 169.0 200.0 L 167.1 200.0 L 167.1 185.8 \" fill=\"#000000\"/>\n",
       "<path class=\"atom-44\" d=\"M 136.0 235.4 L 137.9 235.4 L 137.9 241.4 L 145.2 241.4 L 145.2 235.4 L 147.1 235.4 L 147.1 249.6 L 145.2 249.6 L 145.2 243.0 L 137.9 243.0 L 137.9 249.6 L 136.0 249.6 L 136.0 235.4 \" fill=\"#000000\"/>\n",
       "<path class=\"atom-45\" d=\"M 136.4 217.2 L 138.3 217.2 L 138.3 223.2 L 145.6 223.2 L 145.6 217.2 L 147.5 217.2 L 147.5 231.4 L 145.6 231.4 L 145.6 224.9 L 138.3 224.9 L 138.3 231.4 L 136.4 231.4 L 136.4 217.2 \" fill=\"#000000\"/>\n",
       "<path class=\"atom-47\" d=\"M 113.8 250.2 L 115.7 250.2 L 115.7 256.3 L 123.0 256.3 L 123.0 250.2 L 124.9 250.2 L 124.9 264.5 L 123.0 264.5 L 123.0 257.9 L 115.7 257.9 L 115.7 264.5 L 113.8 264.5 L 113.8 250.2 \" fill=\"#000000\"/>\n",
       "<path class=\"atom-48\" d=\"M 77.3 249.0 L 79.2 249.0 L 79.2 255.0 L 86.5 255.0 L 86.5 249.0 L 88.4 249.0 L 88.4 263.2 L 86.5 263.2 L 86.5 256.6 L 79.2 256.6 L 79.2 263.2 L 77.3 263.2 L 77.3 249.0 \" fill=\"#000000\"/>\n",
       "<path class=\"atom-50\" d=\"M 275.2 84.2 L 277.1 84.2 L 277.1 90.2 L 284.4 90.2 L 284.4 84.2 L 286.3 84.2 L 286.3 98.4 L 284.4 98.4 L 284.4 91.8 L 277.1 91.8 L 277.1 98.4 L 275.2 98.4 L 275.2 84.2 \" fill=\"#000000\"/>\n",
       "<path class=\"atom-52\" d=\"M 345.1 90.8 L 347.0 90.8 L 347.0 96.9 L 354.3 96.9 L 354.3 90.8 L 356.2 90.8 L 356.2 105.1 L 354.3 105.1 L 354.3 98.5 L 347.0 98.5 L 347.0 105.1 L 345.1 105.1 L 345.1 90.8 \" fill=\"#000000\"/>\n",
       "<path class=\"atom-53\" d=\"M 328.6 47.8 L 330.5 47.8 L 330.5 53.8 L 337.8 53.8 L 337.8 47.8 L 339.7 47.8 L 339.7 62.0 L 337.8 62.0 L 337.8 55.4 L 330.5 55.4 L 330.5 62.0 L 328.6 62.0 L 328.6 47.8 \" fill=\"#000000\"/>\n",
       "<path class=\"atom-54\" d=\"M 294.0 47.8 L 295.9 47.8 L 295.9 53.8 L 303.2 53.8 L 303.2 47.8 L 305.1 47.8 L 305.1 62.0 L 303.2 62.0 L 303.2 55.5 L 295.9 55.5 L 295.9 62.0 L 294.0 62.0 L 294.0 47.8 \" fill=\"#000000\"/>\n",
       "<path class=\"atom-56\" d=\"M 291.0 178.2 L 292.9 178.2 L 292.9 184.2 L 300.2 184.2 L 300.2 178.2 L 302.1 178.2 L 302.1 192.4 L 300.2 192.4 L 300.2 185.8 L 292.9 185.8 L 292.9 192.4 L 291.0 192.4 L 291.0 178.2 \" fill=\"#000000\"/>\n",
       "<path class=\"atom-57\" d=\"M 316.1 195.2 L 318.1 195.2 L 318.1 201.3 L 325.3 201.3 L 325.3 195.2 L 327.3 195.2 L 327.3 209.4 L 325.3 209.4 L 325.3 202.9 L 318.1 202.9 L 318.1 209.4 L 316.1 209.4 L 316.1 195.2 \" fill=\"#000000\"/>\n",
       "<path class=\"atom-59\" d=\"M 376.4 188.2 L 378.3 188.2 L 378.3 194.3 L 385.6 194.3 L 385.6 188.2 L 387.6 188.2 L 387.6 202.5 L 385.6 202.5 L 385.6 195.9 L 378.3 195.9 L 378.3 202.5 L 376.4 202.5 L 376.4 188.2 \" fill=\"#000000\"/>\n",
       "<path class=\"atom-60\" d=\"M 344.7 200.8 L 346.6 200.8 L 346.6 206.9 L 353.9 206.9 L 353.9 200.8 L 355.8 200.8 L 355.8 215.1 L 353.9 215.1 L 353.9 208.5 L 346.6 208.5 L 346.6 215.1 L 344.7 215.1 L 344.7 200.8 \" fill=\"#000000\"/>\n",
       "<path class=\"atom-62\" d=\"M 339.2 126.1 L 341.1 126.1 L 341.1 132.2 L 348.4 132.2 L 348.4 126.1 L 350.4 126.1 L 350.4 140.4 L 348.4 140.4 L 348.4 133.8 L 341.1 133.8 L 341.1 140.4 L 339.2 140.4 L 339.2 126.1 \" fill=\"#000000\"/>\n",
       "<path class=\"atom-63\" d=\"M 366.7 112.9 L 368.6 112.9 L 368.6 118.9 L 375.9 118.9 L 375.9 112.9 L 377.9 112.9 L 377.9 127.1 L 375.9 127.1 L 375.9 120.5 L 368.6 120.5 L 368.6 127.1 L 366.7 127.1 L 366.7 112.9 \" fill=\"#000000\"/>\n",
       "<path class=\"atom-65\" d=\"M 401.5 178.6 L 403.5 178.6 L 403.5 184.7 L 410.8 184.7 L 410.8 178.6 L 412.7 178.6 L 412.7 192.9 L 410.8 192.9 L 410.8 186.3 L 403.5 186.3 L 403.5 192.9 L 401.5 192.9 L 401.5 178.6 \" fill=\"#000000\"/>\n",
       "<path class=\"atom-67\" d=\"M 466.1 170.9 L 468.1 170.9 L 468.1 177.0 L 475.3 177.0 L 475.3 170.9 L 477.3 170.9 L 477.3 185.2 L 475.3 185.2 L 475.3 178.6 L 468.1 178.6 L 468.1 185.2 L 466.1 185.2 L 466.1 170.9 \" fill=\"#000000\"/>\n",
       "<path class=\"atom-68\" d=\"M 435.3 183.7 L 437.2 183.7 L 437.2 189.8 L 444.5 189.8 L 444.5 183.7 L 446.4 183.7 L 446.4 198.0 L 444.5 198.0 L 444.5 191.4 L 437.2 191.4 L 437.2 198.0 L 435.3 198.0 L 435.3 183.7 \" fill=\"#000000\"/>\n",
       "<path class=\"atom-69\" d=\"M 460.5 124.9 L 462.4 124.9 L 462.4 130.9 L 469.7 130.9 L 469.7 124.9 L 471.6 124.9 L 471.6 139.1 L 469.7 139.1 L 469.7 132.5 L 462.4 132.5 L 462.4 139.1 L 460.5 139.1 L 460.5 124.9 \" fill=\"#000000\"/>\n",
       "<path class=\"atom-71\" d=\"M 438.0 109.9 L 440.0 109.9 L 440.0 115.9 L 447.2 115.9 L 447.2 109.9 L 449.2 109.9 L 449.2 124.1 L 447.2 124.1 L 447.2 117.5 L 440.0 117.5 L 440.0 124.1 L 438.0 124.1 L 438.0 109.9 \" fill=\"#000000\"/>\n",
       "<path class=\"atom-72\" d=\"M 425.4 81.3 L 427.3 81.3 L 427.3 87.3 L 434.6 87.3 L 434.6 81.3 L 436.5 81.3 L 436.5 95.5 L 434.6 95.5 L 434.6 88.9 L 427.3 88.9 L 427.3 95.5 L 425.4 95.5 L 425.4 81.3 \" fill=\"#000000\"/>\n",
       "<path class=\"atom-73\" d=\"M 380.5 89.9 L 382.5 89.9 L 382.5 95.9 L 389.8 95.9 L 389.8 89.9 L 391.7 89.9 L 391.7 104.1 L 389.8 104.1 L 389.8 97.5 L 382.5 97.5 L 382.5 104.1 L 380.5 104.1 L 380.5 89.9 \" fill=\"#000000\"/>\n",
       "</svg>"
      ],
      "text/plain": [
       "<IPython.core.display.SVG object>"
      ]
     },
     "execution_count": 2,
     "metadata": {},
     "output_type": "execute_result"
    }
   ],
   "source": [
    "# Load a molecule from a SDF file\n",
    "CHOL = Molecule.from_file(\"CHOL.sdf\")\n",
    "CHOL.visualize()"
   ]
  },
  {
   "cell_type": "code",
   "execution_count": 3,
   "id": "b97856d4",
   "metadata": {},
   "outputs": [
    {
     "data": {
      "text/plain": [
       "<openff.toolkit.topology.topology.Topology at 0x15bd82090>"
      ]
     },
     "execution_count": 3,
     "metadata": {},
     "output_type": "execute_result"
    }
   ],
   "source": [
    "topology = Topology.from_molecules(\n",
    "    [CHOL]\n",
    ")\n",
    "topology"
   ]
  },
  {
   "cell_type": "code",
   "execution_count": 4,
   "id": "d13d06c2",
   "metadata": {},
   "outputs": [
    {
     "data": {
      "text/plain": [
       "<openff.toolkit.typing.engines.smirnoff.forcefield.ForceField at 0x15bf1bbd0>"
      ]
     },
     "execution_count": 4,
     "metadata": {},
     "output_type": "execute_result"
    }
   ],
   "source": [
    "forcefield = ForceField(\"openff-2.1.0.offxml\")\n",
    "forcefield"
   ]
  },
  {
   "cell_type": "code",
   "execution_count": 5,
   "id": "f766c0c5",
   "metadata": {},
   "outputs": [
    {
     "name": "stderr",
     "output_type": "stream",
     "text": [
      "/Users/patrickfrankel/anaconda3/envs/openff/lib/python3.11/site-packages/openff/interchange/smirnoff/_create.py:237: UserWarning: Automatically down-converting BondHandler from version 0.4 to 0.3. In the future, this down-conversion will not happen and verison 0.3 will not be supported.\n",
      "  _downconvert_vdw_handler(force_field[\"vdW\"])\n"
     ]
    },
    {
     "data": {
      "text/plain": [
       "Interchange with 7 collections, non-periodic topology with 74 atoms."
      ]
     },
     "execution_count": 5,
     "metadata": {},
     "output_type": "execute_result"
    }
   ],
   "source": [
    "from openff.interchange import Interchange\n",
    "\n",
    "interchange = Interchange.from_smirnoff(\n",
    "    force_field=forcefield,\n",
    "    topology=topology,\n",
    ")\n",
    "interchange"
   ]
  },
  {
   "cell_type": "code",
   "execution_count": 6,
   "id": "c3ffdf26",
   "metadata": {},
   "outputs": [
    {
     "name": "stderr",
     "output_type": "stream",
     "text": [
      "/Users/patrickfrankel/anaconda3/envs/openff/lib/python3.11/site-packages/openff/interchange/interop/gromacs/export/_export.py:46: UserWarning: WARNING: System defined with no box vectors, which GROMACS does not offically support in versions 2020 or newer (see https://gitlab.com/gromacs/gromacs/-/issues/3526). Setting box vectors to a 5  nm cube.\n",
      "  self._write_gro(gro, decimal)\n"
     ]
    }
   ],
   "source": [
    "# Export GROMACS files.\n",
    "interchange.to_top(\"CHOL.top\")\n",
    "interchange.to_gro(\"CHOL.gro\")"
   ]
  }
 ],
 "metadata": {
  "kernelspec": {
   "display_name": "Python 3 (ipykernel)",
   "language": "python",
   "name": "python3"
  },
  "language_info": {
   "codemirror_mode": {
    "name": "ipython",
    "version": 3
   },
   "file_extension": ".py",
   "mimetype": "text/x-python",
   "name": "python",
   "nbconvert_exporter": "python",
   "pygments_lexer": "ipython3",
   "version": "3.11.4"
  }
 },
 "nbformat": 4,
 "nbformat_minor": 5
}
