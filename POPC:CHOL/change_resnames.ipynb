{
 "cells": [
  {
   "cell_type": "code",
   "execution_count": 1,
   "metadata": {},
   "outputs": [],
   "source": [
    "import MDAnalysis as mda\n",
    "import numpy as np"
   ]
  },
  {
   "cell_type": "code",
   "execution_count": 2,
   "metadata": {},
   "outputs": [
    {
     "data": {
      "text/plain": [
       "<Universe with 41515 atoms>"
      ]
     },
     "execution_count": 2,
     "metadata": {},
     "output_type": "execute_result"
    }
   ],
   "source": [
    "u1 = mda.Universe('CHOL4_mediumTEST.gro')\n",
    "u1"
   ]
  },
  {
   "cell_type": "code",
   "execution_count": 3,
   "metadata": {},
   "outputs": [
    {
     "data": {
      "text/plain": [
       "array([92.86841, 92.86841, 88.68651, 90.     , 90.     , 90.     ],\n",
       "      dtype=float32)"
      ]
     },
     "execution_count": 3,
     "metadata": {},
     "output_type": "execute_result"
    }
   ],
   "source": [
    "u1.dimensions"
   ]
  },
  {
   "cell_type": "code",
   "execution_count": 4,
   "metadata": {},
   "outputs": [
    {
     "data": {
      "text/plain": [
       "<ResidueGroup with 8609 residues>"
      ]
     },
     "execution_count": 4,
     "metadata": {},
     "output_type": "execute_result"
    }
   ],
   "source": [
    "u1.residues"
   ]
  },
  {
   "cell_type": "code",
   "execution_count": 7,
   "metadata": {},
   "outputs": [],
   "source": [
    "#RECHECK ORDER OF RESIDS\n",
    "\n",
    "popc = u1.select_atoms('resname POPC')\n",
    "waters = u1.select_atoms('resname SOL')\n",
    "chol = u1.select_atoms('resname CHOL')"
   ]
  },
  {
   "cell_type": "code",
   "execution_count": 8,
   "metadata": {},
   "outputs": [
    {
     "data": {
      "text/plain": [
       "41515"
      ]
     },
     "execution_count": 8,
     "metadata": {},
     "output_type": "execute_result"
    }
   ],
   "source": [
    "waters.n_atoms + popc.n_atoms + chol.n_atoms"
   ]
  },
  {
   "cell_type": "code",
   "execution_count": 13,
   "metadata": {},
   "outputs": [],
   "source": [
    "popc_u = mda.Merge(popc)\n",
    "\n",
    "# pops_u.add_TopologyAttr('resname', ['POPc']*popc.n_residues)\n",
    "# pops_u.atoms.resnames\n",
    "\n",
    "# pops_u.add_TopologyAttr('name', ['N1','HN1','HN2','HN3','C1','H1','C2','O11','O22','C5','H12','H13','P1','O1','O2','O3','O4','C6','H14','H15','C7','H16','O5','C8','O6','C9','H17','H18','C10','H19','H20','O7','C11','O8','C12','H21','H22','C13','H23','H24','C14','H25','H26','C15','H27','H28','C16','H29','H30','C17','H31','H32','C18','H33','H34','C19','H35','C20','H36','C21','H37','H38','C22','H39','H40','C23','H41','H42','C24','H43','H44','C25','H45','H46','C26','H47','H48','C27','H49','H50','C28','H51','H52','H53','C29','H54','H55','C30','H56','H57','C31','H58','H59','C32','H60','H61','C33','H62','H63','C34','H64','H65','C35','H66','H67','C36','H68','H69','C37','H70','H71','C38','H72','H73','C39','H74','H75','C40','H76','H77','C41','H78','H79','C42','H80','H81','H82']*pops.n_residues)\n",
    "# pops_u.atoms.names"
   ]
  },
  {
   "cell_type": "code",
   "execution_count": 11,
   "metadata": {},
   "outputs": [
    {
     "data": {
      "text/plain": [
       "array(['C1', 'O1', 'H1', ..., 'H44', 'H45', 'H46'], dtype=object)"
      ]
     },
     "execution_count": 11,
     "metadata": {},
     "output_type": "execute_result"
    }
   ],
   "source": [
    "water_u = mda.Merge(waters)\n",
    "chol_u = mda.Merge(chol)\n",
    "\n",
    "# water_u.add_TopologyAttr('resname', ['SOL']*waters.n_residues)\n",
    "# water_u.atoms.resnames\n",
    "\n",
    "chol_u.add_TopologyAttr('name', ['C1','O1','H1','H2','C2','H3','H4','C3','C4','H5','C5','H6','H7','C6','H8','C7','H9','C8','H10','H11','C9','H12','H13','C10','H14','C11','C12','H15','H16','H17','C13','H18','H19','C14','H20','H21','C15','H22','C16','C17','H23','H24','H25','C18','H26','H27','C19','H28','H29','C20','H30','C21','H31','H32','H33','C22','H34','H35','C23','H36','H37','C24','H38','H39','C25','H40','C26','H41','H42','H43','C27','H44','H45','H46']*chol.n_residues)\n",
    "chol_u.atoms.names"
   ]
  },
  {
   "cell_type": "code",
   "execution_count": 14,
   "metadata": {},
   "outputs": [
    {
     "data": {
      "text/plain": [
       "<Universe with 41515 atoms>"
      ]
     },
     "execution_count": 14,
     "metadata": {},
     "output_type": "execute_result"
    }
   ],
   "source": [
    "u2 = mda.Merge(popc_u.atoms,water_u.atoms,chol_u.atoms)\n",
    "u2.dimensions = u1.dimensions\n",
    "u2"
   ]
  },
  {
   "cell_type": "code",
   "execution_count": 15,
   "metadata": {},
   "outputs": [
    {
     "data": {
      "text/plain": [
       "array([1, 1, 1, 1, 1, 1, 1, 1, 1, 1])"
      ]
     },
     "execution_count": 15,
     "metadata": {},
     "output_type": "execute_result"
    }
   ],
   "source": [
    "u2.atoms.resids[0:10]"
   ]
  },
  {
   "cell_type": "code",
   "execution_count": 16,
   "metadata": {},
   "outputs": [
    {
     "data": {
      "text/plain": [
       "array(['POPC', 'POPC', 'POPC', ..., 'CHOL', 'CHOL', 'CHOL'], dtype=object)"
      ]
     },
     "execution_count": 16,
     "metadata": {},
     "output_type": "execute_result"
    }
   ],
   "source": [
    "u2.atoms.resnames"
   ]
  },
  {
   "cell_type": "code",
   "execution_count": 17,
   "metadata": {},
   "outputs": [],
   "source": [
    "u2.atoms.write('bilayer.gro')"
   ]
  },
  {
   "cell_type": "code",
   "execution_count": null,
   "metadata": {},
   "outputs": [],
   "source": []
  }
 ],
 "metadata": {
  "kernelspec": {
   "display_name": "mda",
   "language": "python",
   "name": "python3"
  },
  "language_info": {
   "codemirror_mode": {
    "name": "ipython",
    "version": 3
   },
   "file_extension": ".py",
   "mimetype": "text/x-python",
   "name": "python",
   "nbconvert_exporter": "python",
   "pygments_lexer": "ipython3",
   "version": "3.11.4"
  },
  "orig_nbformat": 4
 },
 "nbformat": 4,
 "nbformat_minor": 2
}
