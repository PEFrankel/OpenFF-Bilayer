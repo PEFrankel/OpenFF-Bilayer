{
 "cells": [
  {
   "cell_type": "markdown",
   "metadata": {},
   "source": [
    "### Building input structures for Packmol using NAGL charges"
   ]
  },
  {
   "cell_type": "code",
   "execution_count": null,
   "metadata": {},
   "outputs": [],
   "source": [
    "from openff.interchange import Interchange\n",
    "from openff.toolkit import Molecule, ForceField, Topology\n",
    "import numpy as np\n",
    "import mdtraj\n",
    "from openff.units import unit, Quantity\n",
    "from openff.toolkit.utils.nagl_wrapper import NAGLToolkitWrapper"
   ]
  },
  {
   "cell_type": "code",
   "execution_count": null,
   "metadata": {},
   "outputs": [],
   "source": [
    "# Create a molecule from a SMILES string\n",
    "# POPC is used in this example\n",
    "# If missing stereochemistry, \"allow_undefined_stereo=True\"\n",
    "lipid = Molecule.from_smiles(\"[C@](COP(=O)([O-])OCC[N+](C)(C)C)([H])(OC(CCCCCCC/C=C\\CCCCCCCC)=O)COC(CCCCCCCCCCCCCCC)=O\", allow_undefined_stereo=True)\n",
    "lipid.visualize()"
   ]
  },
  {
   "cell_type": "code",
   "execution_count": null,
   "metadata": {},
   "outputs": [],
   "source": [
    "# Verify your NAGL import\n",
    "from openff.nagl_models import list_available_nagl_models\n",
    "list_available_nagl_models()"
   ]
  },
  {
   "cell_type": "code",
   "execution_count": null,
   "metadata": {},
   "outputs": [],
   "source": [
    "# Define ff version | refer to this repo for updates and alternatives for water versions: https://github.com/openforcefield/openff-forcefields\n",
    "forcefield = ForceField(\"openff-2.2.0.offxml\")\n",
    "\n",
    "lipid.assign_partial_charges(\"openff-gnn-am1bcc-0.1.0-rc.3.pt\", toolkit_registry=NAGLToolkitWrapper())\n",
    "lipid.partial_charges\n",
    "\n",
    "# Lipid abbreviation used for your topology and analysis\n",
    "lipid.name = \"POPC\"\n",
    "\n",
    "# Create Interchange topology\n",
    "lipid.name = \"POPC\"\n",
    "for i, atom in enumerate(lipid.atoms, 0):\n",
    "    atom.metadata[\"residue_name\"] = \"POPC\"\n",
    "lipid.generate_unique_atom_names()\n",
    "lipid.generate_conformers()\n",
    "topology = Topology.from_molecules([lipid])\n",
    "forcefield = ForceField(\"openff-2.2.0.offxml\")\n",
    "interchange = Interchange.from_smirnoff(\n",
    "    force_field=forcefield,\n",
    "    topology=topology,\n",
    "    charge_from_molecules = [lipid]\n",
    ")\n",
    "interchange\n",
    "\n",
    "# GROMACS output structure for Packmol\n",
    "interchange.to_top(f\"Inter_POPC.top\")\n",
    "interchange.to_gro(f\"Inter_POPC.gro\")"
   ]
  },
  {
   "cell_type": "code",
   "execution_count": null,
   "metadata": {},
   "outputs": [],
   "source": [
    "# Get your water structure\n",
    "water = Molecule.from_smiles(\"O\")\n",
    "water.visualize()"
   ]
  },
  {
   "cell_type": "code",
   "execution_count": null,
   "metadata": {},
   "outputs": [],
   "source": [
    "# Define ff version\n",
    "forcefield = ForceField(\"tip3p.offxml\")\n",
    "\n",
    "water.name = \"TIP3P\"\n",
    "\n",
    "for i, atom in enumerate(water.atoms, 3):\n",
    "    atom.metadata[\"residue_name\"] = \"TIP3P\"\n",
    "water.generate_unique_atom_names()\n",
    "water.generate_conformers()\n",
    "\n",
    "interchange = forcefield.create_interchange(water.to_topology())\n",
    "\n",
    "# PDB structure for Packmol\n",
    "interchange.to_pdb(\"water.pdb\")\n",
    "interchange.to_top(\"water.top\")"
   ]
  },
  {
   "cell_type": "markdown",
   "metadata": {},
   "source": [
    "### Pull the lipid for better packing"
   ]
  },
  {
   "cell_type": "markdown",
   "metadata": {},
   "source": [
    "#### Build an index file with an atom from the headgroup"
   ]
  },
  {
   "cell_type": "code",
   "execution_count": null,
   "metadata": {},
   "outputs": [],
   "source": [
    "# The nitrogen from POPC is used here since it is the furthest core atom\n",
    "$ gmx make_ndx -f Inter_POPC.gro -o N1x.ndx\n",
    "\n",
    "# Input for this index (#10 is the nitrogen in the PDB)\n",
    "$ a 10\n",
    "$ name 3 N1x"
   ]
  },
  {
   "cell_type": "markdown",
   "metadata": {},
   "source": [
    "#### Run the pulling simulation"
   ]
  },
  {
   "cell_type": "code",
   "execution_count": null,
   "metadata": {},
   "outputs": [],
   "source": [
    "$ gmx grompp -f pull_nvt.mdp -c Inter_POPC.gro -p Inter_POPC.top -n N1x.ndx -o pull.tpr -maxwarn 1\n",
    "$ gmx mdrun -deffnm pull\n",
    "\n",
    "# We can ignore the warning here as we are not concerned with absolute coordinate fragments for this structure"
   ]
  },
  {
   "cell_type": "markdown",
   "metadata": {},
   "source": [
    "#### Convert the GRO output to a PDB"
   ]
  },
  {
   "cell_type": "code",
   "execution_count": null,
   "metadata": {},
   "outputs": [],
   "source": [
    "$ gmx editconf -f pull.gro -o POPC.pdb\n",
    "\n",
    "# We suggest modifing constraints in Packmol for better packing, but if you want to try a different lipid structure from the pulling instead:\n",
    "$ gmx trjconv -f pull.xtc -s pull.tpr -o POPC.pdb -dump 73\n",
    "# Where '73' is the best frame\n",
    "\n",
    "########################################################################################################################################\n",
    "# If these steps did not produce an ideal structure, retry with different atoms, pull in a different direction, or use multiple groups #\n",
    "########################################################################################################################################"
   ]
  },
  {
   "cell_type": "markdown",
   "metadata": {},
   "source": [
    "#### Run packmol with the lipid and water PDBs"
   ]
  },
  {
   "cell_type": "code",
   "execution_count": null,
   "metadata": {},
   "outputs": [],
   "source": [
    "# If packmol is not installed, create a Conda environment\n",
    "$ conda create -n bilayer\n",
    "$ conda activate bilayer\n",
    "$ conda install -c conda-forge packmol\n",
    "\n",
    "###########################################################################################\n",
    "# This next step can be finnicky. In 'packmol-POPC.inp,' adjust atom restraints           #\n",
    "# to match your lipid. These can be found adjacent to 'atoms'. Choose two carbon          #\n",
    "# atoms from the end of each tail and an atom from the headgroup (typically the nitrogen) #\n",
    "###########################################################################################\n",
    "$ packmol < packmol-POPC.inp"
   ]
  },
  {
   "cell_type": "markdown",
   "metadata": {},
   "source": [
    "### Parametrize the system from Packmol"
   ]
  },
  {
   "cell_type": "code",
   "execution_count": null,
   "metadata": {},
   "outputs": [],
   "source": [
    "# Define ff versions\n",
    "forcefield = ForceField(\"openff-2.2.0.offxml\", \"tip3p.offxml\")\n",
    "lipid.assign_partial_charges(\"openff-gnn-am1bcc-0.1.0-rc.3.pt\", toolkit_registry=NAGLToolkitWrapper())\n",
    "lipid.partial_charges\n",
    "\n",
    "# Atom count\n",
    "topology = Topology.from_molecules(5120 * [water] + 128 * [lipid])\n",
    "\n",
    "# Packmol bilayer to parametrize\n",
    "path = mdtraj.load('bilayer.pdb')\n",
    "\n",
    "# Topology designation given Packmol coordinates\n",
    "topology.set_positions(path.xyz[0] * unit.nanometer)\n",
    "topology.box_vectors = [7.5,7.5,9.0] * unit.nanometer\n",
    "\n",
    "water.name = \"TIP3P\"\n",
    "lipid.name = \"POPC\"\n",
    "\n",
    "for i, atom in enumerate(lipid.atoms, 3):\n",
    "    atom.metadata[\"residue_name\"] = \"POPC\"\n",
    "    lipid.generate_conformers()\n",
    "    lipid.generate_unique_atom_names() # the default suffix for this functon is \"x\". Using \"\" will remove suffixes if desired\n",
    "for i, atom in enumerate(water.atoms, 3):\n",
    "    atom.metadata[\"residue_name\"] = \"TIP3P\"\n",
    "    water.generate_conformers()\n",
    "    water.generate_unique_atom_names(suffix = \"w\")\n",
    "\n",
    "interchange = forcefield.create_interchange(topology)\n",
    "\n",
    "interchange.to_gromacs(prefix = \"bilayer\", decimal = 3, hydrogen_mass = 3)\n",
    "\n",
    "# Save before running"
   ]
  },
  {
   "cell_type": "markdown",
   "metadata": {},
   "source": [
    "### Run the system in GROMACS"
   ]
  },
  {
   "cell_type": "markdown",
   "metadata": {},
   "source": [
    "#### Energy minimization"
   ]
  },
  {
   "cell_type": "code",
   "execution_count": null,
   "metadata": {},
   "outputs": [],
   "source": [
    "$ gmx grompp -f min.mdp -p topol.top -c bilayer.gro -o min.tpr\n",
    "$ gmx mdrun -deffnm min"
   ]
  },
  {
   "cell_type": "markdown",
   "metadata": {},
   "source": [
    "#### NVT equilibration"
   ]
  },
  {
   "cell_type": "code",
   "execution_count": null,
   "metadata": {},
   "outputs": [],
   "source": [
    "$ gmx grompp -f nvt.mdp -p topol.top -c min.gro -o nvt.tpr\n",
    "$ gmx mdrun -deffnm nvt"
   ]
  },
  {
   "cell_type": "markdown",
   "metadata": {},
   "source": [
    "#### NPT equilibration"
   ]
  },
  {
   "cell_type": "code",
   "execution_count": null,
   "metadata": {},
   "outputs": [],
   "source": [
    "$ gmx grompp -f npt.mdp -p topol.top -c nvt.gro -o npt.tpr -maxwarn 1\n",
    "$ gmx mdrun -deffnm npt"
   ]
  },
  {
   "cell_type": "markdown",
   "metadata": {},
   "source": [
    "#### Production"
   ]
  },
  {
   "cell_type": "code",
   "execution_count": null,
   "metadata": {},
   "outputs": [],
   "source": [
    "$ gmx grompp -f md.mdp -c npt.gro -t npt.cpt -p topol.top -o md.tpr\n",
    "$ gmx mdrun -deffnm md\n",
    "\n",
    "# Checkpoint run for completion\n",
    "$ gmx mdrun -deffnm md -cpi md.cpt"
   ]
  }
 ],
 "metadata": {
  "kernelspec": {
   "display_name": "openff",
   "language": "python",
   "name": "python3"
  },
  "language_info": {
   "codemirror_mode": {
    "name": "ipython",
    "version": 3
   },
   "file_extension": ".py",
   "mimetype": "text/x-python",
   "name": "python",
   "nbconvert_exporter": "python",
   "pygments_lexer": "ipython3",
   "version": "3.11.10"
  }
 },
 "nbformat": 4,
 "nbformat_minor": 2
}
