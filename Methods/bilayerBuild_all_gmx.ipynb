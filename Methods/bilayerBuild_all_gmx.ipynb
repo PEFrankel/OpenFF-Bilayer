{
 "cells": [
  {
   "cell_type": "markdown",
   "metadata": {},
   "source": [
    "### Create a Conda environment for Packmol either locally or on RC (recommended) (currently only relevant for CHOL_15%)"
   ]
  },
  {
   "cell_type": "markdown",
   "metadata": {},
   "source": [
    "1. conda create -n bilayer\n",
    "2. conda activate bilayer\n",
    "3. conda install -c conda-forge packmol"
   ]
  },
  {
   "attachments": {},
   "cell_type": "markdown",
   "metadata": {},
   "source": [
    "### Prepare Packmol input files (currently only relevant for CHOL_15%)"
   ]
  },
  {
   "cell_type": "code",
   "execution_count": null,
   "metadata": {},
   "outputs": [],
   "source": [
    "# Convert any gro files to pdb\n",
    "gmx editconf -f lipid.gro -o lipid.pdb\n",
    "\n",
    "# water.pdb was pulled from this system: https://zenodo.org/records/153944 as a .gro, then converted to a .pbd using packmol.\n",
    "# need to add more citations"
   ]
  },
  {
   "attachments": {},
   "cell_type": "markdown",
   "metadata": {},
   "source": [
    "### Run Packmol (currently only relevant for CHOL_15%)"
   ]
  },
  {
   "attachments": {},
   "cell_type": "markdown",
   "metadata": {},
   "source": [
    "Using the script (`build_bilayer.inp`), constraints were added to the headgroup and tails. (This step takes a while if running locally)"
   ]
  },
  {
   "cell_type": "code",
   "execution_count": null,
   "metadata": {},
   "outputs": [],
   "source": [
    "packmol < build_bilayer.inp"
   ]
  },
  {
   "cell_type": "code",
   "execution_count": null,
   "metadata": {},
   "outputs": [],
   "source": [
    "# Add a box and convert to gro (ensure the box coordinates in this command are consistent with your bilayer)\n",
    "gmx editconf -f bilayer.pdb -o bilayer.gro -box 7 7 4  "
   ]
  },
  {
   "cell_type": "markdown",
   "metadata": {},
   "source": [
    "### Energy minimization (gmx start here)"
   ]
  },
  {
   "cell_type": "code",
   "execution_count": null,
   "metadata": {},
   "outputs": [],
   "source": [
    "# Prepare and run EM\n",
    "gmx grompp -f min.mdp -p topol.top -c bilayer.gro -o min.tpr\n",
    "gmx mdrun -deffnm min"
   ]
  },
  {
   "attachments": {},
   "cell_type": "markdown",
   "metadata": {},
   "source": [
    "### NVT equilibration"
   ]
  },
  {
   "cell_type": "code",
   "execution_count": null,
   "metadata": {},
   "outputs": [],
   "source": [
    "# Prepare and run NVT\n",
    "gmx grompp -f nvt.mdp -p topol.top -c min.gro -o nvt.tpr\n",
    "gmx mdrun -deffnm nvt"
   ]
  },
  {
   "attachments": {},
   "cell_type": "markdown",
   "metadata": {},
   "source": [
    "### NPT equilibration"
   ]
  },
  {
   "cell_type": "code",
   "execution_count": null,
   "metadata": {},
   "outputs": [],
   "source": [
    "# Prepare and run NPT\n",
    "gmx grompp -f npt.mdp -p topol.top -c nvt.gro -o npt.tpr -maxwarn 1\n",
    "gmx mdrun -deffnm npt\n",
    "\n",
    "# Warning is not of concern"
   ]
  },
  {
   "cell_type": "markdown",
   "metadata": {},
   "source": [
    "Equilibration was ensured after each step."
   ]
  },
  {
   "cell_type": "markdown",
   "metadata": {},
   "source": [
    "### MD Production"
   ]
  },
  {
   "cell_type": "code",
   "execution_count": null,
   "metadata": {},
   "outputs": [],
   "source": [
    "# Prepare and run MD\n",
    "gmx grompp -f md.mdp -c npt.gro -t npt.cpt -p topol.top -o md.tpr\n",
    "gmx mdrun -deffnm md\n",
    "\n",
    "# Checkpoint run for completion\n",
    "gmx mdrun -deffnm md -cpi md.cpt"
   ]
  }
 ],
 "metadata": {
  "kernelspec": {
   "display_name": "test",
   "language": "python",
   "name": "python3"
  },
  "language_info": {
   "codemirror_mode": {
    "name": "ipython",
    "version": 3
   },
   "file_extension": ".py",
   "mimetype": "text/x-python",
   "name": "python",
   "nbconvert_exporter": "python",
   "pygments_lexer": "ipython3",
   "version": "3.11.3"
  },
  "orig_nbformat": 4
 },
 "nbformat": 4,
 "nbformat_minor": 2
}
