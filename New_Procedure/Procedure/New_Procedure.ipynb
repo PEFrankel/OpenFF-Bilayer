{
 "cells": [
  {
   "cell_type": "markdown",
   "metadata": {},
   "source": [
    "#### Convert your PDB from Interchange to a GRO with a box large enough to prevent PBC errors"
   ]
  },
  {
   "cell_type": "code",
   "execution_count": null,
   "metadata": {},
   "outputs": [],
   "source": [
    "# Note: The GRO output directly from Interchange may be good enough to skip this step\n",
    "$ gmx editconf -f Inter_POPC.pdb -o Inter_POPC.gro -box 5 5 5"
   ]
  },
  {
   "cell_type": "markdown",
   "metadata": {},
   "source": [
    "### Build an index file with an atom from the headgroup"
   ]
  },
  {
   "cell_type": "code",
   "execution_count": null,
   "metadata": {},
   "outputs": [],
   "source": [
    "# The nitrogen from POPC is used here since it is the furthest core atom\n",
    "\n",
    "$ gmx make_ndx -f Inter_POPC.gro -o N1x.ndx\n",
    "\n",
    "# Input for this index (#10 is the nitrogen in the PDB)\n",
    "$ a 10\n",
    "$ name 3 N1x"
   ]
  },
  {
   "cell_type": "markdown",
   "metadata": {},
   "source": [
    "### Run the pulling simulation"
   ]
  },
  {
   "cell_type": "code",
   "execution_count": null,
   "metadata": {},
   "outputs": [],
   "source": [
    "$ gmx grompp -f pull_nvt.mdp -c Inter_POPC.gro -p Inter_POPC.top -n N1x.ndx -o pull.tpr -maxwarn 1\n",
    "$ gmx mdrun -deffnm pull\n",
    "\n",
    "# We can ignore the warning here as we are not concerned with absolute coordinate fragments for this structure"
   ]
  },
  {
   "cell_type": "markdown",
   "metadata": {},
   "source": [
    "### Visualize the trajectory in VMD and dump a frame where the lipid is thin/ideal as a PDB"
   ]
  },
  {
   "cell_type": "code",
   "execution_count": null,
   "metadata": {},
   "outputs": [],
   "source": [
    "# Note: The GRO output directly from the md may be good enough to skip this step. If so, use this\n",
    "$ gmx editconf -f pull.gro -o POPC.pdb\n",
    "\n",
    "# Otherwise,\n",
    "$ gmx trjconv -f pull.xtc -s pull.tpr -o POPC.pdb -dump 73\n",
    "# Where '73' is the best frame\n",
    "\n",
    "########################################################################################################################################\n",
    "# If these steps did not produce an ideal structure, retry with different atoms, pull in a different direction, or use multiple groups #\n",
    "########################################################################################################################################"
   ]
  },
  {
   "cell_type": "markdown",
   "metadata": {},
   "source": [
    "### Run packmol with the dumped PDB"
   ]
  },
  {
   "cell_type": "code",
   "execution_count": null,
   "metadata": {},
   "outputs": [],
   "source": [
    "#################################################################################################################\n",
    "# In 'bilayer-comment.inp,' adjust atom restraints to match your lipid. These can be found adjacent to 'atoms'. #\n",
    "# Choose two carbon atoms from the end of each tail and an atom from the headgroup (typically the nitrogen)     #\n",
    "#################################################################################################################\n",
    "\n",
    "$ packmol < bilayer-comment.inp\n",
    "\n",
    "# If packmol is not installed, create a Conda environment\n",
    "$ conda create -n bilayer\n",
    "$ conda activate bilayer\n",
    "$ conda install -c conda-forge packmol"
   ]
  },
  {
   "cell_type": "markdown",
   "metadata": {},
   "source": [
    "# Parametrize the entire system in the interchange notebook"
   ]
  },
  {
   "cell_type": "markdown",
   "metadata": {},
   "source": [
    "### Energy minimization (gmx start here)"
   ]
  },
  {
   "cell_type": "code",
   "execution_count": null,
   "metadata": {},
   "outputs": [],
   "source": [
    "$ gmx grompp -f min.mdp -p topol.top -c bilayer.gro -o min.tpr\n",
    "$ gmx mdrun -deffnm min"
   ]
  },
  {
   "cell_type": "markdown",
   "metadata": {},
   "source": [
    "### NVT equilibration"
   ]
  },
  {
   "cell_type": "code",
   "execution_count": null,
   "metadata": {},
   "outputs": [],
   "source": [
    "$ gmx grompp -f nvt.mdp -p topol.top -c min.gro -o nvt.tpr\n",
    "$ gmx mdrun -deffnm nvt"
   ]
  },
  {
   "cell_type": "markdown",
   "metadata": {},
   "source": [
    "### NPT equilibration"
   ]
  },
  {
   "cell_type": "code",
   "execution_count": null,
   "metadata": {},
   "outputs": [],
   "source": [
    "$ gmx grompp -f npt.mdp -p topol.top -c nvt.gro -o npt.tpr -maxwarn 1\n",
    "$ gmx mdrun -deffnm npt"
   ]
  },
  {
   "cell_type": "markdown",
   "metadata": {},
   "source": [
    "### MD Production"
   ]
  },
  {
   "cell_type": "code",
   "execution_count": null,
   "metadata": {},
   "outputs": [],
   "source": [
    "$ gmx grompp -f md.mdp -c npt.gro -t npt.cpt -p topol.top -o md.tpr\n",
    "$ gmx mdrun -deffnm md\n",
    "\n",
    "# Checkpoint run for completion\n",
    "$ gmx mdrun -deffnm md -cpi md.cpt"
   ]
  }
 ],
 "metadata": {
  "kernelspec": {
   "display_name": "openff",
   "language": "python",
   "name": "python3"
  },
  "language_info": {
   "codemirror_mode": {
    "name": "ipython",
    "version": 3
   },
   "file_extension": ".py",
   "mimetype": "text/x-python",
   "name": "python",
   "nbconvert_exporter": "python",
   "pygments_lexer": "ipython3",
   "version": "3.11.8"
  }
 },
 "nbformat": 4,
 "nbformat_minor": 2
}
