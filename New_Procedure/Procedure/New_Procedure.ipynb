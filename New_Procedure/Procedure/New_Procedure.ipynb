{
 "cells": [
  {
   "cell_type": "markdown",
   "metadata": {},
   "source": [
    "#### Convert your PDB from Interchange to a GRO with a box large enough to prevent perioidic image interactions"
   ]
  },
  {
   "cell_type": "code",
   "execution_count": null,
   "metadata": {},
   "outputs": [],
   "source": [
    "# Note: The GRO output directly from Interchange may be good enough to skip this step\n",
    "$ gmx editconf -f Inter_POPC.pdb -o Inter_POPC.gro -box 5 5 5"
   ]
  },
  {
   "cell_type": "markdown",
   "metadata": {},
   "source": [
    "### Build an index file with an atom from the headgroup"
   ]
  },
  {
   "cell_type": "code",
   "execution_count": null,
   "metadata": {},
   "outputs": [],
   "source": [
    "# The nitrogen from POPC is used here since it is the furthest core atom\n",
    "# For more complicated structures, you can specificy multiple atoms and link them (reference 'specific_pull.mdp' in this repo)\n",
    "\n",
    "$ gmx make_ndx -f Inter_POPC.gro -o N1x.ndx\n",
    "\n",
    "# Input for this index (#10 is the nitrogen in the PDB)\n",
    "$ a 10\n",
    "$ name 3 N1x"
   ]
  },
  {
   "cell_type": "markdown",
   "metadata": {},
   "source": [
    "### Run the pulling simulation"
   ]
  },
  {
   "cell_type": "code",
   "execution_count": null,
   "metadata": {},
   "outputs": [],
   "source": [
    "$ gmx grompp -f pull_nvt.mdp -c Inter_POPC.gro -p Inter_POPC.top -n N1x.ndx -o pull.tpr -maxwarn 1\n",
    "$ gmx mdrun -deffnm pull"
   ]
  },
  {
   "cell_type": "markdown",
   "metadata": {},
   "source": [
    "### Visualize the trajectory in VMD and dump a frame where the lipid is thin/ideal as a PDB"
   ]
  },
  {
   "cell_type": "code",
   "execution_count": null,
   "metadata": {},
   "outputs": [],
   "source": [
    "$ gmx trjconv -f pull.xtc -s pull.tpr -o POPC.pdb -dump 73\n",
    "# Where '73' is the best frame\n",
    "\n",
    "# Note: The GRO output directly from the md may be good enough to skip this step. If so, use this\n",
    "$ gmx editconf -f pull.gro -o POPC.pdb"
   ]
  },
  {
   "cell_type": "markdown",
   "metadata": {},
   "source": [
    "### Run packmol with the dumped PDB"
   ]
  },
  {
   "cell_type": "code",
   "execution_count": null,
   "metadata": {},
   "outputs": [],
   "source": [
    "$ packmol < bilayer-comment.inp\n",
    "\n",
    "# If packmol is not installed, create a Conda environment\n",
    "$ conda create -n bilayer\n",
    "$ conda activate bilayer\n",
    "$ conda install -c conda-forge packmol"
   ]
  },
  {
   "cell_type": "markdown",
   "metadata": {},
   "source": [
    "### Convert PDB to GRO using the same dimensions as your system"
   ]
  },
  {
   "cell_type": "code",
   "execution_count": null,
   "metadata": {},
   "outputs": [],
   "source": [
    "$ gmx editconf -f bilayer.pdb -o bilayer.gro -box 7.5 7.5 7.5"
   ]
  },
  {
   "cell_type": "markdown",
   "metadata": {},
   "source": [
    "### Energy minimization (gmx start here)"
   ]
  },
  {
   "cell_type": "code",
   "execution_count": null,
   "metadata": {},
   "outputs": [],
   "source": [
    "$ gmx grompp -f min.mdp -p topol.top -c bilayer.gro -o min.tpr\n",
    "$ gmx mdrun -deffnm min"
   ]
  },
  {
   "cell_type": "markdown",
   "metadata": {},
   "source": [
    "### NVT equilibration"
   ]
  },
  {
   "cell_type": "code",
   "execution_count": null,
   "metadata": {},
   "outputs": [],
   "source": [
    "$ gmx grompp -f nvt.mdp -p topol.top -c min.gro -o nvt.tpr\n",
    "$ gmx_mpi mdrun -deffnm nvt"
   ]
  },
  {
   "cell_type": "markdown",
   "metadata": {},
   "source": [
    "### NPT equilibration"
   ]
  },
  {
   "cell_type": "code",
   "execution_count": null,
   "metadata": {},
   "outputs": [],
   "source": [
    "$ gmx grompp -f npt.mdp -p topol.top -c nvt.gro -o npt.tpr -maxwarn 1\n",
    "$ gmx mdrun -deffnm npt"
   ]
  },
  {
   "cell_type": "markdown",
   "metadata": {},
   "source": [
    "### MD Production"
   ]
  },
  {
   "cell_type": "code",
   "execution_count": null,
   "metadata": {},
   "outputs": [],
   "source": [
    "$ gmx grompp -f md.mdp -c npt.gro -t npt.cpt -p topol.top -o md.tpr\n",
    "$ gmx mdrun -deffnm md\n",
    "\n",
    "# Checkpoint run for completion\n",
    "$ gmx mdrun -deffnm md -cpi md.cpt"
   ]
  }
 ],
 "metadata": {
  "language_info": {
   "name": "python"
  }
 },
 "nbformat": 4,
 "nbformat_minor": 2
}
